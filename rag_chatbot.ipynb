{
 "cells": [
  {
   "cell_type": "markdown",
   "metadata": {},
   "source": [
    "## Installing libraries"
   ]
  },
  {
   "cell_type": "code",
   "execution_count": null,
   "metadata": {},
   "outputs": [],
   "source": [
    "!pip install cohere\n",
    "!pip install langchain\n",
    "!pip install pypdf\n",
    "!pip install tiktoken\n",
    "!pip install chromadb\n",
    "!pip install bs4"
   ]
  },
  {
   "cell_type": "markdown",
   "metadata": {},
   "source": [
    "## Use Cohere API endpoint"
   ]
  },
  {
   "cell_type": "code",
   "execution_count": 52,
   "metadata": {},
   "outputs": [
    {
     "name": "stdout",
     "output_type": "stream",
     "text": [
      "Prediction: Hong Kong is a vibrant and bustling city located on the southeastern coast of China. Known for its stunning skyline, bustling streets, and diverse culture, Hong Kong is a unique and exciting destination that blends traditional Chinese heritage with modern influences.\n",
      "\n",
      "The city is made up of Hong Kong Island, Kowloon, and the New Territories, each offering its own distinct character and attractions. Hong Kong Island is home to the city's financial district, with towering skyscrapers and bustling streets. Kowloon is a lively and densely populated area known for its vibrant markets and temples. The New Territories offer a more relaxed pace of life, with beautiful countryside, traditional villages, and stunning beaches.\n",
      "\n",
      "One of the most iconic features of Hong Kong is its stunning skyline, which can be best appreciated from the famous Victoria Peak. From the peak, visitors can take in breathtaking views of the city's towering skyscrapers, sparkling harbor, and lush green hills. Hong Kong is also known for its excellent cuisine, with a diverse range of dining options that reflect the city's cultural diversity. Visitors can enjoy everything from traditional Cantonese dim sum to international fare, with a wide range of restaurants, street food stalls, and lively night markets to choose from.\n",
      "\n",
      "Hong Kong also boasts a rich cultural heritage, with a number of temples, museums, and historic sites to explore. Visitors can learn about the city's long and fascinating history, which has been shaped by British colonial rule and Chinese influence. The city also offers a range of entertainment options, from\n"
     ]
    }
   ],
   "source": [
    "import cohere\n",
    "key = \"urAN0hpVmnaPAW66RPqZQTKOSs46zd4EI93e1NNg\"\n",
    "co = cohere.Client(key)\n",
    "response = co.generate(\n",
    "  model='command-nightly',\n",
    "  prompt='write a description about hong kong',\n",
    "  max_tokens=300,\n",
    "  temperature=0.9,\n",
    "  k=0,\n",
    "  p=0.75,\n",
    "  stop_sequences=[],\n",
    "  return_likelihoods='NONE')\n",
    "print('Prediction: {}'.format(response.generations[0].text))"
   ]
  },
  {
   "cell_type": "markdown",
   "metadata": {},
   "source": [
    "## Create embeddings"
   ]
  },
  {
   "cell_type": "code",
   "execution_count": 53,
   "metadata": {},
   "outputs": [],
   "source": [
    "from langchain.embeddings import CohereEmbeddings\n",
    "co = CohereEmbeddings(cohere_api_key=key)\n",
    "# text = \"This is a test document.\"\n",
    "# query_result = embeddings.embed_query(text)\n",
    "# doc_result = embeddings.embed_documents([text])\n",
    "# print(doc_result)\n"
   ]
  },
  {
   "cell_type": "markdown",
   "metadata": {},
   "source": [
    "## read source file"
   ]
  },
  {
   "cell_type": "code",
   "execution_count": 54,
   "metadata": {},
   "outputs": [],
   "source": [
    "def read_urls(file_path):\n",
    "    '''Function to read URLs from a file'''\n",
    "    with open(file_path, 'r') as file:\n",
    "        urls = [url.strip() for url in file.readlines()]\n",
    "    return urls\n",
    "\n",
    "urls = read_urls(\"./source_url.txt\")"
   ]
  },
  {
   "cell_type": "markdown",
   "metadata": {},
   "source": [
    "## load the source"
   ]
  },
  {
   "cell_type": "code",
   "execution_count": 55,
   "metadata": {},
   "outputs": [],
   "source": [
    "from langchain.document_loaders import WebBaseLoader\n",
    "\n",
    "# Specify the URL of the website you want to load\n",
    "all_documents = []\n",
    "\n",
    "# Load the website content for each URL and add it to the list\n",
    "for url in urls:\n",
    "    loader = WebBaseLoader(url)\n",
    "    documents = loader.load()\n",
    "    all_documents.extend(documents)"
   ]
  },
  {
   "cell_type": "markdown",
   "metadata": {},
   "source": [
    "## split the website content into smaller chunks"
   ]
  },
  {
   "cell_type": "code",
   "execution_count": 56,
   "metadata": {},
   "outputs": [],
   "source": [
    "from langchain.text_splitter import CharacterTextSplitter\n",
    "from langchain.vectorstores import Chroma\n",
    "from langchain.chains import VectorDBQA\n",
    "from langchain.llms import Cohere\n",
    "import os\n",
    "\n",
    "text_splitter = CharacterTextSplitter(chunk_size=1000, chunk_overlap=200)\n",
    "docs = text_splitter.split_documents(all_documents)\n",
    "\n",
    "os.environ[\"COHERE_API_KEY\"] = key"
   ]
  },
  {
   "cell_type": "code",
   "execution_count": 59,
   "metadata": {},
   "outputs": [],
   "source": [
    "embeddings = CohereEmbeddings()\n",
    "db = Chroma.from_documents(docs, embeddings)"
   ]
  },
  {
   "cell_type": "markdown",
   "metadata": {},
   "source": [
    "## QnA testing"
   ]
  },
  {
   "cell_type": "code",
   "execution_count": 60,
   "metadata": {},
   "outputs": [
    {
     "name": "stderr",
     "output_type": "stream",
     "text": [
      "/Users/apple/Desktop/rag-chatbot/.venv/lib/python3.11/site-packages/langchain/chains/retrieval_qa/base.py:256: UserWarning: `VectorDBQA` is deprecated - please use `from langchain.chains import RetrievalQA`\n",
      "  warnings.warn(\n"
     ]
    }
   ],
   "source": [
    "qa = VectorDBQA.from_chain_type(llm=Cohere(), chain_type=\"stuff\", vectorstore=db)"
   ]
  },
  {
   "cell_type": "code",
   "execution_count": 61,
   "metadata": {},
   "outputs": [
    {
     "data": {
      "text/plain": [
       "{'query': 'How do I update expert advisors or indicators from the mql5.com market to latest versions?',\n",
       " 'result': ' To update your expert advisors or indicators from the MQL5.com market to the latest versions, you can follow these steps:\\n\\n1. Log in to your MQL5.com account and go to the \"Market\" section.\\n2. Find and select the item that you want to update.\\n3. If an update is available, there will be an \"Update\" button shown on the right side of the page. Click on that button.\\n4. A pop-up window will appear. Click on the \"Download update\" button to start the update process.\\n5. Once the update is downloaded, you can copy it to your MT4 or MT5 platform\\'s Experts or Indicators folder to replace the existing file. \\n\\nNote: Make sure you have the appropriate currency on your MQL5.com account to pay for any paid resources, if necessary. \\n\\nKeeping your EA\\'s and indicators up to date can help you stay current with any new features and bug fixes from the developer. '}"
      ]
     },
     "execution_count": 61,
     "metadata": {},
     "output_type": "execute_result"
    }
   ],
   "source": [
    "query = \"How do I update expert advisors or indicators from the mql5.com market to latest versions?\"\n",
    "qa.invoke(query)"
   ]
  },
  {
   "cell_type": "code",
   "execution_count": 62,
   "metadata": {},
   "outputs": [
    {
     "data": {
      "text/plain": [
       "{'query': 'where can i buy icecream?',\n",
       " 'result': \" I don't know the answer to this question as it is not mentioned in the context nor is it a question related to the previous context. \\nI can provide ice cream options if you like however I need to know the location you are looking to purchase ice cream. \"}"
      ]
     },
     "execution_count": 62,
     "metadata": {},
     "output_type": "execute_result"
    }
   ],
   "source": [
    "invalid_query = \"where can i buy icecream?\"\n",
    "qa.invoke(invalid_query)"
   ]
  },
  {
   "cell_type": "code",
   "execution_count": null,
   "metadata": {},
   "outputs": [],
   "source": []
  }
 ],
 "metadata": {
  "kernelspec": {
   "display_name": "base",
   "language": "python",
   "name": "python3"
  },
  "language_info": {
   "codemirror_mode": {
    "name": "ipython",
    "version": 3
   },
   "file_extension": ".py",
   "mimetype": "text/x-python",
   "name": "python",
   "nbconvert_exporter": "python",
   "pygments_lexer": "ipython3",
   "version": "3.11.4"
  }
 },
 "nbformat": 4,
 "nbformat_minor": 2
}

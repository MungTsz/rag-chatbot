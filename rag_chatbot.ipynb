{
 "cells": [
  {
   "cell_type": "markdown",
   "metadata": {},
   "source": [
    "## Installing libraries"
   ]
  },
  {
   "cell_type": "code",
   "execution_count": null,
   "metadata": {},
   "outputs": [],
   "source": [
    "!pip install cohere\n",
    "!pip install langchain\n",
    "!pip install pypdf\n",
    "!pip install tiktoken\n",
    "!pip install chromadb\n",
    "!pip install bs4"
   ]
  },
  {
   "cell_type": "markdown",
   "metadata": {},
   "source": [
    "## read url source file"
   ]
  },
  {
   "cell_type": "code",
   "execution_count": null,
   "metadata": {},
   "outputs": [],
   "source": [
    "def read_urls(file_path):\n",
    "    '''Function to read URLs from a file'''\n",
    "    with open(file_path, 'r') as file:\n",
    "        urls = [url.strip() for url in file.readlines()]\n",
    "    return urls\n",
    "\n",
    "urls = read_urls(\"./source_url.txt\")"
   ]
  },
  {
   "cell_type": "markdown",
   "metadata": {},
   "source": [
    "## load the url source"
   ]
  },
  {
   "cell_type": "code",
   "execution_count": null,
   "metadata": {},
   "outputs": [],
   "source": [
    "from langchain.document_loaders import WebBaseLoader\n",
    "\n",
    "# Specify the URL of the website you want to load\n",
    "all_documents = []\n",
    "\n",
    "# Load the website content for each URL and add it to the list\n",
    "for url in urls:\n",
    "    loader = WebBaseLoader(url)\n",
    "    documents = loader.load()\n",
    "    all_documents.extend(documents)\n",
    "\n",
    "all_documents"
   ]
  },
  {
   "cell_type": "markdown",
   "metadata": {},
   "source": [
    "## load document from local file"
   ]
  },
  {
   "cell_type": "code",
   "execution_count": 4,
   "metadata": {},
   "outputs": [
    {
     "data": {
      "text/plain": [
       "[Document(page_content='Trades:\\n744\\nProfit Trades:\\n490 (65.86%)\\nLoss Trades:\\n254 (34.14%)\\nBest trade:\\n57.45 USD\\nWorst trade:\\n-45.59 USD\\nGross Profit:\\n3 246.73 USD (344 065 pips)\\nGross Loss:\\n-1 705.90 USD (159 746 pips)\\nMaximum consecutive wins:\\n43 (101.14 USD)\\nMaximal consecutive profit:\\n124.46 USD (4)\\nSharpe Ratio:\\n0.19\\nTrading activity:\\n100.00%\\nMax deposit load:\\n8.24%\\nLatest trade:\\n3 days ago\\nTrades per week:\\n15\\nAvg holding time:\\n7 days \\nRecovery Factor:\\n12.02\\nLong Trades:\\n354 (47.58%)\\nShort Trades:\\n390 (52.42%)\\nProfit Factor:\\n1.90\\nExpected Payoff:\\n2.07 USD\\nAverage Profit:\\n6.63 USD\\nAverage Loss:\\n-6.72 USD\\nMaximum consecutive losses:\\n8 (-34.22 USD)\\nMaximal consecutive loss:\\n-75.82 USD (6)\\nMonthly growth:\\n5.89%\\nAnnual Forecast:\\n72.88%\\nAlgo trading:\\n73%', metadata={'source': './source.txt'})]"
      ]
     },
     "execution_count": 4,
     "metadata": {},
     "output_type": "execute_result"
    }
   ],
   "source": [
    "from langchain.document_loaders import TextLoader\n",
    "loader = TextLoader('./source.txt')\n",
    "all_documents = loader.load()\n",
    "\n",
    "all_documents"
   ]
  },
  {
   "cell_type": "markdown",
   "metadata": {},
   "source": [
    "## split the website content into smaller chunks"
   ]
  },
  {
   "cell_type": "code",
   "execution_count": 5,
   "metadata": {},
   "outputs": [],
   "source": [
    "from langchain.text_splitter import CharacterTextSplitter\n",
    "from langchain.vectorstores import Chroma\n",
    "import os\n",
    "import cohere\n",
    "\n",
    "key = \"urAN0hpVmnaPAW66RPqZQTKOSs46zd4EI93e1NNg\"\n",
    "co = cohere.Client(key)\n",
    "\n",
    "text_splitter = CharacterTextSplitter(chunk_size=1000, chunk_overlap=200)\n",
    "docs = text_splitter.split_documents(all_documents)\n",
    "\n",
    "os.environ[\"COHERE_API_KEY\"] = key"
   ]
  },
  {
   "cell_type": "markdown",
   "metadata": {},
   "source": [
    "## store vector"
   ]
  },
  {
   "cell_type": "code",
   "execution_count": 6,
   "metadata": {},
   "outputs": [],
   "source": [
    "from langchain.embeddings import CohereEmbeddings\n",
    "embeddings = CohereEmbeddings(cohere_api_key=key)\n",
    "db = Chroma.from_documents(docs, embeddings)"
   ]
  },
  {
   "cell_type": "markdown",
   "metadata": {},
   "source": [
    "## define prompt template"
   ]
  },
  {
   "cell_type": "code",
   "execution_count": 7,
   "metadata": {},
   "outputs": [],
   "source": [
    "from langchain.prompts import PromptTemplate\n",
    "prompt_template = \"\"\"\n",
    "you are a personal financial advisor here to help the client. \n",
    "\n",
    "Given the following financial context:\n",
    "\n",
    "{context}\n",
    "\n",
    "Question: {question}\n",
    "As your financial advisor, I would recommend the following:\n",
    "\"\"\"\n",
    "prompt = PromptTemplate(\n",
    "    template=prompt_template,\n",
    "    input_variables=[\"context\", \"question\"]\n",
    ")"
   ]
  },
  {
   "cell_type": "markdown",
   "metadata": {},
   "source": [
    "## retrieve dara and output"
   ]
  },
  {
   "cell_type": "code",
   "execution_count": 8,
   "metadata": {},
   "outputs": [
    {
     "name": "stderr",
     "output_type": "stream",
     "text": [
      "/Users/apple/Desktop/rag-chatbot/.venv/lib/python3.11/site-packages/langchain_core/_api/deprecation.py:119: LangChainDeprecationWarning: The class `Cohere` was deprecated in LangChain 0.1.14 and will be removed in 0.2.0. An updated version of the class exists in the langchain-cohere package and should be used instead. To use it run `pip install -U langchain-cohere` and import as `from langchain_cohere import Cohere`.\n",
      "  warn_deprecated(\n"
     ]
    }
   ],
   "source": [
    "from langchain.chains import RetrievalQA\n",
    "from langchain.llms import Cohere\n",
    "\n",
    "retriever = db.as_retriever()  # Assuming 'db' is your vector store\n",
    "\n",
    "retrievalQA = RetrievalQA.from_llm(\n",
    "    llm=Cohere(),\n",
    "    retriever=retriever,\n",
    "    prompt=prompt\n",
    ")"
   ]
  },
  {
   "cell_type": "markdown",
   "metadata": {},
   "source": [
    "## query about the urls content"
   ]
  },
  {
   "cell_type": "code",
   "execution_count": 9,
   "metadata": {},
   "outputs": [],
   "source": [
    "# query = \"What is an activation?\"\n",
    "# retrievalQA.invoke(query)"
   ]
  },
  {
   "cell_type": "markdown",
   "metadata": {},
   "source": [
    "## query about the source file content"
   ]
  },
  {
   "cell_type": "code",
   "execution_count": 10,
   "metadata": {},
   "outputs": [
    {
     "name": "stderr",
     "output_type": "stream",
     "text": [
      "Number of requested results 4 is greater than number of elements in index 2, updating n_results = 2\n"
     ]
    },
    {
     "data": {
      "text/plain": [
       "{'query': 'can you summarize my trading performance?',\n",
       " 'result': \" Given the provided trading context and performance summary, I can provide you with some insights and recommendations:\\n\\n1. Trading Performance - You have traded 744 times with 490 profitable trades, which is a strong 65.86% win rate. This is an admirable performance, but it's important to consider the risk-reward ratio to make sustainable long-term gains. \\n\\n2. Risk Management - While your best trade yielded 57.45 USD, the worst trade was -45.59 USD, suggesting a significant loss incurred at times. It is important to manage your risks effectively, and your risk per trade should be in line with your risk tolerance and trading goals. \\n\\n3. Holding Time - With an average holding time of 7 days, your trades are positioned in the short-term trading realm, which often entails higher exposure to market volatility and potential quick changes in market conditions. Adequate monitoring of trades and a defined exit strategy are necessary. \\n\\n4. Activity and Strategy - You seem quite active with a trading style that engages 15 trades per week. It is important to ensure that this trading style aligns with your available time and attention. Also, reviewing your trading strategy and ensuring it is adaptive to market conditions could help optimize results. \\n\\n5. Use\"}"
      ]
     },
     "execution_count": 10,
     "metadata": {},
     "output_type": "execute_result"
    }
   ],
   "source": [
    "query = \"can you summarize my trading performance?\"\n",
    "retrievalQA.invoke(query)"
   ]
  },
  {
   "cell_type": "markdown",
   "metadata": {},
   "source": [
    "## invalid query"
   ]
  },
  {
   "cell_type": "code",
   "execution_count": null,
   "metadata": {},
   "outputs": [],
   "source": [
    "invalid_query = \"where can i buy icecream?\"\n",
    "retrievalQA.invoke(invalid_query)"
   ]
  },
  {
   "cell_type": "code",
   "execution_count": null,
   "metadata": {},
   "outputs": [],
   "source": []
  }
 ],
 "metadata": {
  "kernelspec": {
   "display_name": "base",
   "language": "python",
   "name": "python3"
  },
  "language_info": {
   "codemirror_mode": {
    "name": "ipython",
    "version": 3
   },
   "file_extension": ".py",
   "mimetype": "text/x-python",
   "name": "python",
   "nbconvert_exporter": "python",
   "pygments_lexer": "ipython3",
   "version": "3.11.4"
  }
 },
 "nbformat": 4,
 "nbformat_minor": 2
}

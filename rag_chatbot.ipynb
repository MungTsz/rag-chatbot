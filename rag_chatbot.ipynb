{
 "cells": [
  {
   "cell_type": "markdown",
   "metadata": {},
   "source": [
    "## Installing libraries"
   ]
  },
  {
   "cell_type": "code",
   "execution_count": null,
   "metadata": {},
   "outputs": [],
   "source": [
    "!pip install cohere\n",
    "!pip install langchain\n",
    "!pip install pypdf\n",
    "!pip install tiktoken\n",
    "!pip install chromadb"
   ]
  },
  {
   "cell_type": "markdown",
   "metadata": {},
   "source": [
    "## Use Cohere API endpoint"
   ]
  },
  {
   "cell_type": "code",
   "execution_count": 3,
   "metadata": {},
   "outputs": [
    {
     "name": "stdout",
     "output_type": "stream",
     "text": [
      "Prediction: Australia is a country and continent surrounded by the Indian Ocean and Pacific Ocean. It is known for its diverse landscape of deserts, rainforests, and mountains. Australia is home to many iconic animals, such as kangaroos, koalas, and emus. The country is also known for its vibrant cities, including Sydney, Melbourne, and Brisbane. Australia has a rich cultural heritage, with a long history of Indigenous Australian culture and a diverse range of modern influences. It is a popular destination for tourists and immigrants, known for its friendly people, high quality of life, and outdoor lifestyle.\n"
     ]
    }
   ],
   "source": [
    "import cohere\n",
    "co = cohere.Client('urAN0hpVmnaPAW66RPqZQTKOSs46zd4EI93e1NNg')\n",
    "response = co.generate(\n",
    "  model='command-nightly',\n",
    "  prompt='write a description about australia',\n",
    "  max_tokens=300,\n",
    "  temperature=0.9,\n",
    "  k=0,\n",
    "  p=0.75,\n",
    "  stop_sequences=[],\n",
    "  return_likelihoods='NONE')\n",
    "print('Prediction: {}'.format(response.generations[0].text))"
   ]
  },
  {
   "cell_type": "code",
   "execution_count": null,
   "metadata": {},
   "outputs": [],
   "source": []
  }
 ],
 "metadata": {
  "kernelspec": {
   "display_name": "base",
   "language": "python",
   "name": "python3"
  },
  "language_info": {
   "codemirror_mode": {
    "name": "ipython",
    "version": 3
   },
   "file_extension": ".py",
   "mimetype": "text/x-python",
   "name": "python",
   "nbconvert_exporter": "python",
   "pygments_lexer": "ipython3",
   "version": "3.11.4"
  }
 },
 "nbformat": 4,
 "nbformat_minor": 2
}

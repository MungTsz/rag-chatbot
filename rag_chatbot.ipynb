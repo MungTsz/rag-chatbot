{
 "cells": [
  {
   "cell_type": "markdown",
   "metadata": {},
   "source": [
    "## Installing libraries"
   ]
  },
  {
   "cell_type": "code",
   "execution_count": null,
   "metadata": {},
   "outputs": [],
   "source": [
    "!pip install cohere\n",
    "!pip install langchain\n",
    "!pip install pypdf\n",
    "!pip install tiktoken\n",
    "!pip install chromadb"
   ]
  },
  {
   "cell_type": "markdown",
   "metadata": {},
   "source": [
    "## Use Cohere API endpoint"
   ]
  },
  {
   "cell_type": "code",
   "execution_count": 26,
   "metadata": {},
   "outputs": [
    {
     "name": "stdout",
     "output_type": "stream",
     "text": [
      "Prediction: Hong Kong is a bustling, vibrant city located on the southern coast of China. Known for its towering skyscrapers, bustling streets, and vibrant culture, Hong Kong is a unique blend of Eastern and Western influences. The city is home to a diverse range of people, with a rich history and a dynamic future.\n",
      "\n",
      "One of the most striking features of Hong Kong is its skyline, which is characterized by towering skyscrapers and a stunning harbor. The city is a major financial hub, with a highly developed economy and a reputation as a global center for trade and commerce. Hong Kong is also known for its efficient transportation system, which includes the iconic Star Ferry and the world-famous Peak Tram.\n",
      "\n",
      "Beyond its urban landscape, Hong Kong also offers a wealth of natural beauty. The city is surrounded by lush, green mountains and picturesque islands, offering a range of outdoor activities such as hiking, swimming, and sailing. The city is also home to a number of beautiful parks, including the famous Hong Kong Park, which features a bird sanctuary, a conservatory, and a stunning aviary.\n",
      "\n",
      "Hong Kong's cultural scene is equally vibrant, with a range of museums, art galleries, and performance venues. The city is particularly known for its film industry, which has produced a number of internationally acclaimed films and has earned Hong Kong the nickname \"Hollywood of the East.\" The city's cuisine is also renowned, with a range of delicious dishes that reflect the city's diverse cultural influences.\n",
      "\n",
      "Overall, Hong\n"
     ]
    }
   ],
   "source": [
    "import cohere\n",
    "key = \"urAN0hpVmnaPAW66RPqZQTKOSs46zd4EI93e1NNg\"\n",
    "co = cohere.Client(key)\n",
    "response = co.generate(\n",
    "  model='command-nightly',\n",
    "  prompt='write a description about hong kong',\n",
    "  max_tokens=300,\n",
    "  temperature=0.9,\n",
    "  k=0,\n",
    "  p=0.75,\n",
    "  stop_sequences=[],\n",
    "  return_likelihoods='NONE')\n",
    "print('Prediction: {}'.format(response.generations[0].text))"
   ]
  },
  {
   "cell_type": "markdown",
   "metadata": {},
   "source": [
    "## Create embeddings"
   ]
  },
  {
   "cell_type": "code",
   "execution_count": 27,
   "metadata": {},
   "outputs": [],
   "source": [
    "from langchain.embeddings import CohereEmbeddings\n",
    "embeddings = CohereEmbeddings(cohere_api_key=key)\n",
    "# text = \"This is a test document.\"\n",
    "# query_result = embeddings.embed_query(text)\n",
    "# doc_result = embeddings.embed_documents([text])\n",
    "# print(doc_result)\n"
   ]
  },
  {
   "cell_type": "markdown",
   "metadata": {},
   "source": [
    "## Document Q&A"
   ]
  },
  {
   "cell_type": "code",
   "execution_count": 28,
   "metadata": {},
   "outputs": [
    {
     "name": "stderr",
     "output_type": "stream",
     "text": [
      "Created a chunk of size 1241, which is longer than the specified 1000\n",
      "Created a chunk of size 2332, which is longer than the specified 1000\n",
      "Created a chunk of size 1050, which is longer than the specified 1000\n",
      "Created a chunk of size 1704, which is longer than the specified 1000\n"
     ]
    }
   ],
   "source": [
    "from langchain.document_loaders import TextLoader\n",
    "from langchain.document_loaders import TextLoader\n",
    "from langchain.text_splitter import CharacterTextSplitter\n",
    "from langchain.vectorstores import Chroma\n",
    "from langchain.chains import VectorDBQA\n",
    "from langchain.llms import Cohere\n",
    "import os\n",
    "\n",
    "loader = TextLoader(\"./faq_mql5.txt\")\n",
    "pages = loader.load_and_split()\n",
    "text_splitter = CharacterTextSplitter(chunk_size=1000, chunk_overlap=0)\n",
    "docs = text_splitter.split_documents(pages)\n",
    "\n",
    "os.environ[\"COHERE_API_KEY\"] = key"
   ]
  },
  {
   "cell_type": "code",
   "execution_count": 29,
   "metadata": {},
   "outputs": [],
   "source": [
    "embeddings = CohereEmbeddings()\n",
    "db = Chroma.from_documents(docs, embeddings)"
   ]
  },
  {
   "cell_type": "markdown",
   "metadata": {},
   "source": [
    "## QnA testing"
   ]
  },
  {
   "cell_type": "code",
   "execution_count": 30,
   "metadata": {},
   "outputs": [
    {
     "name": "stderr",
     "output_type": "stream",
     "text": [
      "/Users/apple/Desktop/rag-chatbot/.venv/lib/python3.11/site-packages/langchain/chains/retrieval_qa/base.py:256: UserWarning: `VectorDBQA` is deprecated - please use `from langchain.chains import RetrievalQA`\n",
      "  warnings.warn(\n"
     ]
    }
   ],
   "source": [
    "qa = VectorDBQA.from_chain_type(llm=Cohere(), chain_type=\"stuff\", vectorstore=db)"
   ]
  },
  {
   "cell_type": "code",
   "execution_count": 31,
   "metadata": {},
   "outputs": [
    {
     "data": {
      "text/plain": [
       "{'query': 'Who can create a trading Signal at MQL5.com? Should I pay for this?',\n",
       " 'result': ' To create a signal, anyone who registers on MQL5.com can do so for free. Signals can also be created with free or paid subscriptions, both of which are free to create. '}"
      ]
     },
     "execution_count": 31,
     "metadata": {},
     "output_type": "execute_result"
    }
   ],
   "source": [
    "query = \"Who can create a trading Signal at MQL5.com? Should I pay for this?\"\n",
    "qa.invoke(query)"
   ]
  },
  {
   "cell_type": "code",
   "execution_count": 32,
   "metadata": {},
   "outputs": [
    {
     "data": {
      "text/plain": [
       "{'query': 'where can i buy icecream?',\n",
       " 'result': \" I don't know the answer to this unfortunately. \\nI can provide you with suggestions if you let me know the location closest to you, or where you would like to buy ice cream from. \"}"
      ]
     },
     "execution_count": 32,
     "metadata": {},
     "output_type": "execute_result"
    }
   ],
   "source": [
    "invalid_query = \"where can i buy icecream?\"\n",
    "qa.invoke(invalid_query)"
   ]
  },
  {
   "cell_type": "code",
   "execution_count": null,
   "metadata": {},
   "outputs": [],
   "source": []
  }
 ],
 "metadata": {
  "kernelspec": {
   "display_name": "base",
   "language": "python",
   "name": "python3"
  },
  "language_info": {
   "codemirror_mode": {
    "name": "ipython",
    "version": 3
   },
   "file_extension": ".py",
   "mimetype": "text/x-python",
   "name": "python",
   "nbconvert_exporter": "python",
   "pygments_lexer": "ipython3",
   "version": "3.11.4"
  }
 },
 "nbformat": 4,
 "nbformat_minor": 2
}

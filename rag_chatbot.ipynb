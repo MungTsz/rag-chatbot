{
 "cells": [
  {
   "cell_type": "markdown",
   "metadata": {},
   "source": [
    "## Installing libraries"
   ]
  },
  {
   "cell_type": "code",
   "execution_count": 10,
   "metadata": {},
   "outputs": [],
   "source": [
    "# !pip install cohere\n",
    "# !pip install langchain\n",
    "# !pip install pypdf\n",
    "# !pip install tiktoken\n",
    "# !pip install chromadb\n",
    "# !pip install bs4"
   ]
  },
  {
   "cell_type": "markdown",
   "metadata": {},
   "source": [
    "## read url source file"
   ]
  },
  {
   "cell_type": "code",
   "execution_count": 11,
   "metadata": {},
   "outputs": [],
   "source": [
    "def read_urls(file_path):\n",
    "    '''Function to read URLs from a file'''\n",
    "    with open(file_path, 'r') as file:\n",
    "        urls = [url.strip() for url in file.readlines()]\n",
    "    return urls\n",
    "\n",
    "urls = read_urls(\"./source_url.txt\")"
   ]
  },
  {
   "cell_type": "markdown",
   "metadata": {},
   "source": [
    "## load the url source"
   ]
  },
  {
   "cell_type": "code",
   "execution_count": 12,
   "metadata": {},
   "outputs": [
    {
     "data": {
      "text/plain": [
       "[Document(page_content='\\n405 Not Allowed\\n\\n405 Not Allowed\\nAngie\\n\\n\\n', metadata={'source': 'https://www.mql5.com/en/blogs/post/752096', 'title': '405 Not Allowed', 'language': 'No language found.'}),\n",
       " Document(page_content='\\n405 Not Allowed\\n\\n405 Not Allowed\\nAngie\\n\\n\\n', metadata={'source': 'https://www.mql5.com/en/blogs/post/751762', 'title': '405 Not Allowed', 'language': 'No language found.'})]"
      ]
     },
     "execution_count": 12,
     "metadata": {},
     "output_type": "execute_result"
    }
   ],
   "source": [
    "from langchain.document_loaders import WebBaseLoader\n",
    "\n",
    "# Specify the URL of the website you want to load\n",
    "all_documents = []\n",
    "\n",
    "# Load the website content for each URL and add it to the list\n",
    "for url in urls:\n",
    "    loader = WebBaseLoader(url)\n",
    "    documents = loader.load()\n",
    "    all_documents.extend(documents)\n",
    "\n",
    "all_documents"
   ]
  },
  {
   "cell_type": "markdown",
   "metadata": {},
   "source": [
    "## load document from local file"
   ]
  },
  {
   "cell_type": "code",
   "execution_count": 13,
   "metadata": {},
   "outputs": [
    {
     "data": {
      "text/plain": [
       "[Document(page_content='Trades:\\n744\\nProfit Trades:\\n490 (65.86%)\\nLoss Trades:\\n254 (34.14%)\\nBest trade:\\n57.45 USD\\nWorst trade:\\n-45.59 USD\\nGross Profit:\\n3 246.73 USD (344 065 pips)\\nGross Loss:\\n-1 705.90 USD (159 746 pips)\\nMaximum consecutive wins:\\n43 (101.14 USD)\\nMaximal consecutive profit:\\n124.46 USD (4)\\nSharpe Ratio:\\n0.19\\nTrading activity:\\n100.00%\\nMax deposit load:\\n8.24%\\nLatest trade:\\n3 days ago\\nTrades per week:\\n15\\nAvg holding time:\\n7 days \\nRecovery Factor:\\n12.02\\nLong Trades:\\n354 (47.58%)\\nShort Trades:\\n390 (52.42%)\\nProfit Factor:\\n1.90\\nExpected Payoff:\\n2.07 USD\\nAverage Profit:\\n6.63 USD\\nAverage Loss:\\n-6.72 USD\\nMaximum consecutive losses:\\n8 (-34.22 USD)\\nMaximal consecutive loss:\\n-75.82 USD (6)\\nMonthly growth:\\n5.89%\\nAnnual Forecast:\\n72.88%\\nAlgo trading:\\n73%\\n\\nGeneral Questions \\nHow do I install expert advisors or indicators from the mql5.com market?\\n\\nKindly read my installation guide.\\n\\nHow do I update expert advisors or indicators from the mql5.com market to latest versions?\\n\\nThe procedure is identical to the installation, but instead of the \"Install\" button, you should click the \"Update\" button (it will be available if an update is available).\\n\\nThe free download button is not working!\\n\\nIn order to install a free product, you need to find it in the Market and click \"Download\". After that, the product will immediately appear in the \"Market\" list of the Navigator (View => Navigator).\\n\\nDo I have to pay for future updates?\\n\\nNo, updates are free.\\n\\n', metadata={'source': './source.txt'})]"
      ]
     },
     "execution_count": 13,
     "metadata": {},
     "output_type": "execute_result"
    }
   ],
   "source": [
    "from langchain.document_loaders import TextLoader\n",
    "loader = TextLoader('./source.txt')\n",
    "all_documents = loader.load()\n",
    "\n",
    "all_documents"
   ]
  },
  {
   "cell_type": "markdown",
   "metadata": {},
   "source": [
    "## split the website content into smaller chunks"
   ]
  },
  {
   "cell_type": "code",
   "execution_count": 14,
   "metadata": {},
   "outputs": [],
   "source": [
    "from langchain.text_splitter import CharacterTextSplitter\n",
    "from langchain.vectorstores import Chroma\n",
    "import os\n",
    "import cohere\n",
    "\n",
    "key = \"urAN0hpVmnaPAW66RPqZQTKOSs46zd4EI93e1NNg\"\n",
    "co = cohere.Client(key)\n",
    "\n",
    "text_splitter = CharacterTextSplitter(chunk_size=1000, chunk_overlap=200)\n",
    "docs = text_splitter.split_documents(all_documents)\n",
    "\n",
    "os.environ[\"COHERE_API_KEY\"] = key"
   ]
  },
  {
   "cell_type": "markdown",
   "metadata": {},
   "source": [
    "## store vector"
   ]
  },
  {
   "cell_type": "code",
   "execution_count": 15,
   "metadata": {},
   "outputs": [],
   "source": [
    "from langchain.embeddings import CohereEmbeddings\n",
    "embeddings = CohereEmbeddings(cohere_api_key=key)\n",
    "db = Chroma.from_documents(docs, embeddings)"
   ]
  },
  {
   "cell_type": "markdown",
   "metadata": {},
   "source": [
    "## define prompt template"
   ]
  },
  {
   "cell_type": "code",
   "execution_count": 16,
   "metadata": {},
   "outputs": [],
   "source": [
    "from langchain.prompts import PromptTemplate\n",
    "prompt_template = \"\"\"\n",
    "you are a personal financial advisor here to help the client. \n",
    "\n",
    "Given the following financial context:\n",
    "\n",
    "{context}\n",
    "\n",
    "Question: {question}\n",
    "As your financial advisor, I would recommend the following:\n",
    "\"\"\"\n",
    "prompt = PromptTemplate(\n",
    "    template=prompt_template,\n",
    "    input_variables=[\"context\", \"question\"]\n",
    ")"
   ]
  },
  {
   "cell_type": "markdown",
   "metadata": {},
   "source": [
    "## retrieve dara and output"
   ]
  },
  {
   "cell_type": "code",
   "execution_count": 17,
   "metadata": {},
   "outputs": [],
   "source": [
    "from langchain.chains import RetrievalQA\n",
    "from langchain.llms import Cohere\n",
    "\n",
    "retriever = db.as_retriever()  # Assuming 'db' is your vector store\n",
    "\n",
    "retrievalQA = RetrievalQA.from_llm(\n",
    "    llm=Cohere(),\n",
    "    retriever=retriever,\n",
    "    prompt=prompt\n",
    ")"
   ]
  },
  {
   "cell_type": "markdown",
   "metadata": {},
   "source": [
    "## query "
   ]
  },
  {
   "cell_type": "code",
   "execution_count": 20,
   "metadata": {},
   "outputs": [
    {
     "data": {
      "text/plain": [
       "{'query': 'How do I update expert advisors or indicators from the mql5.com market to latest versions?',\n",
       " 'result': ' To update an expert advisor or indicator from the mql5.com market, follow the identical procedure for installing them, but instead of the \"Install\" button, click \"Update\" if the update is available. You don\\'t have to pay for future updates as they are free. It\\'s important to note that the update process may vary depending on the specific platform or software you are using. It\\'s always best to consult the user manual or guidance provided by the platform developer for accurate and updated instructions. '}"
      ]
     },
     "execution_count": 20,
     "metadata": {},
     "output_type": "execute_result"
    }
   ],
   "source": [
    "query = \"How do I update expert advisors or indicators from the mql5.com market to latest versions?\"\n",
    "retrievalQA.invoke(query)"
   ]
  },
  {
   "cell_type": "code",
   "execution_count": 21,
   "metadata": {},
   "outputs": [
    {
     "data": {
      "text/plain": [
       "{'query': 'can you summarize my trading performance?',\n",
       " 'result': ' Given the provided trading information, here is a summary of your trading performance: \\n\\nYou have had 744 trades, and 65.86% of these trades have been profitable. This is an above-average ratio and is a positive sign. Maximal consecutive profit was $124.46, and maximal consecutive losses were -34.22 USD, meaning you have a consistent ability to recognize and ride profitable trends, and also minimize potential losses. \\n\\nThe gross profit of all trades is $3246.73 USD (344065 pips), and the gross loss is -1705.90 USD (159746 pips). This means that, on average, you allow yourself to make small consistent gains with strategic plays, and avoid overinvesting or placing too many risky bets. \\n\\nWith an average of 15 trades per week and an average holding time of 7 days, you trade with consistency and patience, two key aspects in investing. Based on this information, with the context of adequate trading activity and maximal deposit load of 8.24%, I would estimate that you are successfully managing the risk and return profile of your investments. \\n\\nAlso, you are achieving a Annual Forecast of 72.88%, which is a great return. I would not recommend any changes to your'}"
      ]
     },
     "execution_count": 21,
     "metadata": {},
     "output_type": "execute_result"
    }
   ],
   "source": [
    "query = \"can you summarize my trading performance?\"\n",
    "retrievalQA.invoke(query)"
   ]
  },
  {
   "cell_type": "markdown",
   "metadata": {},
   "source": [
    "## invalid query"
   ]
  },
  {
   "cell_type": "code",
   "execution_count": 22,
   "metadata": {},
   "outputs": [
    {
     "data": {
      "text/plain": [
       "{'query': 'where can i buy icecream?',\n",
       " 'result': \" I appreciate your enthusiasm, but this ice cream question is beyond the scope of my expertise and abilities. I was designed solely to give financial advice and not recommendations on consumer products like ice cream. \\n\\nI'm sorry I can't be of more help with this. \"}"
      ]
     },
     "execution_count": 22,
     "metadata": {},
     "output_type": "execute_result"
    }
   ],
   "source": [
    "invalid_query = \"where can i buy icecream?\"\n",
    "retrievalQA.invoke(invalid_query)"
   ]
  },
  {
   "cell_type": "code",
   "execution_count": null,
   "metadata": {},
   "outputs": [],
   "source": []
  }
 ],
 "metadata": {
  "kernelspec": {
   "display_name": "base",
   "language": "python",
   "name": "python3"
  },
  "language_info": {
   "codemirror_mode": {
    "name": "ipython",
    "version": 3
   },
   "file_extension": ".py",
   "mimetype": "text/x-python",
   "name": "python",
   "nbconvert_exporter": "python",
   "pygments_lexer": "ipython3",
   "version": "3.11.4"
  }
 },
 "nbformat": 4,
 "nbformat_minor": 2
}

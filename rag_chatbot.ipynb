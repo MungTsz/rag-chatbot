{
 "cells": [
  {
   "cell_type": "markdown",
   "metadata": {},
   "source": [
    "## Installing libraries"
   ]
  },
  {
   "cell_type": "code",
   "execution_count": null,
   "metadata": {},
   "outputs": [],
   "source": [
    "!pip install cohere\n",
    "!pip install langchain\n",
    "!pip install pypdf\n",
    "!pip install tiktoken\n",
    "!pip install chromadb\n",
    "!pip install bs4"
   ]
  },
  {
   "cell_type": "markdown",
   "metadata": {},
   "source": [
    "## read source file"
   ]
  },
  {
   "cell_type": "code",
   "execution_count": 9,
   "metadata": {},
   "outputs": [],
   "source": [
    "def read_urls(file_path):\n",
    "    '''Function to read URLs from a file'''\n",
    "    with open(file_path, 'r') as file:\n",
    "        urls = [url.strip() for url in file.readlines()]\n",
    "    return urls\n",
    "\n",
    "urls = read_urls(\"./source_url.txt\")"
   ]
  },
  {
   "cell_type": "markdown",
   "metadata": {},
   "source": [
    "## load the source"
   ]
  },
  {
   "cell_type": "code",
   "execution_count": 10,
   "metadata": {},
   "outputs": [
    {
     "data": {
      "text/plain": [
       "[Document(page_content='\\n405 Not Allowed\\n\\n405 Not Allowed\\nAngie\\n\\n\\n', metadata={'source': 'https://www.mql5.com/en/blogs/post/751762', 'title': '405 Not Allowed', 'language': 'No language found.'})]"
      ]
     },
     "execution_count": 10,
     "metadata": {},
     "output_type": "execute_result"
    }
   ],
   "source": [
    "from langchain.document_loaders import WebBaseLoader\n",
    "\n",
    "# Specify the URL of the website you want to load\n",
    "all_documents = []\n",
    "\n",
    "# Load the website content for each URL and add it to the list\n",
    "for url in urls:\n",
    "    loader = WebBaseLoader(url)\n",
    "    documents = loader.load()\n",
    "    all_documents.extend(documents)\n",
    "\n",
    "all_documents"
   ]
  },
  {
   "cell_type": "markdown",
   "metadata": {},
   "source": [
    "## split the website content into smaller chunks"
   ]
  },
  {
   "cell_type": "code",
   "execution_count": 11,
   "metadata": {},
   "outputs": [],
   "source": [
    "from langchain.text_splitter import CharacterTextSplitter\n",
    "from langchain.vectorstores import Chroma\n",
    "import os\n",
    "import cohere\n",
    "\n",
    "key = \"urAN0hpVmnaPAW66RPqZQTKOSs46zd4EI93e1NNg\"\n",
    "co = cohere.Client(key)\n",
    "\n",
    "text_splitter = CharacterTextSplitter(chunk_size=1000, chunk_overlap=200)\n",
    "docs = text_splitter.split_documents(all_documents)\n",
    "\n",
    "os.environ[\"COHERE_API_KEY\"] = key"
   ]
  },
  {
   "cell_type": "markdown",
   "metadata": {},
   "source": [
    "## store vector"
   ]
  },
  {
   "cell_type": "code",
   "execution_count": 12,
   "metadata": {},
   "outputs": [],
   "source": [
    "from langchain.embeddings import CohereEmbeddings\n",
    "embeddings = CohereEmbeddings(cohere_api_key=key)\n",
    "db = Chroma.from_documents(docs, embeddings)"
   ]
  },
  {
   "cell_type": "markdown",
   "metadata": {},
   "source": [
    "## retrieve dara and output"
   ]
  },
  {
   "cell_type": "code",
   "execution_count": 20,
   "metadata": {},
   "outputs": [],
   "source": [
    "from langchain.chains import RetrievalQA\n",
    "from langchain.llms import Cohere\n",
    "\n",
    "retriever = db.as_retriever()  # Assuming 'db' is your vector store\n",
    "\n",
    "retrievalQA = RetrievalQA.from_llm(\n",
    "    llm=Cohere(),\n",
    "    retriever=retriever\n",
    ")"
   ]
  },
  {
   "cell_type": "code",
   "execution_count": 21,
   "metadata": {},
   "outputs": [
    {
     "name": "stderr",
     "output_type": "stream",
     "text": [
      "Number of requested results 4 is greater than number of elements in index 2, updating n_results = 2\n"
     ]
    },
    {
     "data": {
      "text/plain": [
       "{'query': 'What is an activation?',\n",
       " 'result': ' Some concepts relating to the activation you mentioned in your question involve allowance or disallowance of something happening or occuring. Without further context, I cannot decipher the exact meaning of the concept with polar opposite extremes of allowance or disallowance in this particular context. \\n\\nCan you please provide further information about the situation or context regarding this concept of activation so I can provide more specific information? '}"
      ]
     },
     "execution_count": 21,
     "metadata": {},
     "output_type": "execute_result"
    }
   ],
   "source": [
    "query = \"What is an activation?\"\n",
    "retrievalQA.invoke(query)"
   ]
  },
  {
   "cell_type": "code",
   "execution_count": 15,
   "metadata": {},
   "outputs": [
    {
     "name": "stderr",
     "output_type": "stream",
     "text": [
      "Number of requested results 4 is greater than number of elements in index 2, updating n_results = 2\n"
     ]
    },
    {
     "data": {
      "text/plain": [
       "{'query': 'where can i buy icecream?',\n",
       " 'result': ' I apologize, but the provided context does not include any information on ice cream. Hence, I cannot answer this question. \\n\\nTo gather relevant suggestions for ice cream options according to your location and preferences, please specify the region and any dietary requirements or particular brands/types you might be looking for, and I will be happy to assist you to the best of my abilities. '}"
      ]
     },
     "execution_count": 15,
     "metadata": {},
     "output_type": "execute_result"
    }
   ],
   "source": [
    "invalid_query = \"where can i buy icecream?\"\n",
    "retrievalQA.invoke(invalid_query)"
   ]
  },
  {
   "cell_type": "code",
   "execution_count": null,
   "metadata": {},
   "outputs": [],
   "source": []
  }
 ],
 "metadata": {
  "kernelspec": {
   "display_name": "base",
   "language": "python",
   "name": "python3"
  },
  "language_info": {
   "codemirror_mode": {
    "name": "ipython",
    "version": 3
   },
   "file_extension": ".py",
   "mimetype": "text/x-python",
   "name": "python",
   "nbconvert_exporter": "python",
   "pygments_lexer": "ipython3",
   "version": "3.11.4"
  }
 },
 "nbformat": 4,
 "nbformat_minor": 2
}

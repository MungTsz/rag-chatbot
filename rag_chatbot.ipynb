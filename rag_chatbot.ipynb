{
 "cells": [
  {
   "cell_type": "code",
   "execution_count": null,
   "metadata": {},
   "outputs": [],
   "source": [
    "!pip install -qU \\\n",
    "    langchain==0.0.354 \\\n",
    "    openai==1.6.1 \\\n",
    "    datasets==2.10.1 \\\n",
    "    pinecone-client==3.1.0 \\\n",
    "    tiktoken==0.5.2"
   ]
  },
  {
   "cell_type": "code",
   "execution_count": null,
   "metadata": {},
   "outputs": [],
   "source": [
    "pip install transformers"
   ]
  },
  {
   "cell_type": "code",
   "execution_count": null,
   "metadata": {},
   "outputs": [],
   "source": [
    "pip install langchain"
   ]
  },
  {
   "cell_type": "code",
   "execution_count": null,
   "metadata": {},
   "outputs": [],
   "source": [
    "pip install sentence-transformers"
   ]
  },
  {
   "cell_type": "code",
   "execution_count": null,
   "metadata": {},
   "outputs": [],
   "source": [
    "from transformers import T5Tokenizer, T5ForConditionalGeneration\n",
    "\n",
    "tokenizer = T5Tokenizer.from_pretrained(\"google-t5/t5-small\")\n",
    "model = T5ForConditionalGeneration.from_pretrained(\"google-t5/t5-small\")"
   ]
  },
  {
   "cell_type": "code",
   "execution_count": 1,
   "metadata": {},
   "outputs": [
    {
     "data": {
      "text/plain": [
       "[Document(page_content='\\ufeffFrequently Asked Questions about the Signals service\\n1. What the Signals service is needed for?\\nThe special \"Signals\" section at MQL5.community website allows all registered users to broadcast their own trading operations from their MetaTrader 4 or MetaTrader 5 trading accounts, as well as to subscribe to copy deals into their trading accounts from Signals of other traders. Each trading signal has its own page in the Signals section, where you can see a detailed trading statistics of deals history, charts of growth and balance, number of subscribers, etc.\\n2. Who can create a trading Signal at MQL5.com? Should I pay for this?\\nTo create a signal you only need to register at MQL5.com. You can create signals with free and paid subscription - in both cases, you don\\'t need to pay anything to create a signal.\\n3. When a free Signal will become available for subscription?\\nFree signals become available to subscribers as soon as the signal server can connect to a trading account from which the signals will be broadcast.\\n4. How to create a free signal?\\nIf you are registered at MQL5.com, in the upper right corner of the Signals section click \"Create your own signal\" to open the corresponding page where you can create your own Signal.\\n\\nEnter the name of your future Signal, then select either MetaTrader 4 or MetaTrader 5 platform, set specify login and investor password of your account on selected trading platform. In the Broker field enter the name of trading server or broker (while typing, you can find the server you need in the appeared drop-down list).\\n\\n  \\n\\nAfter completing all these four fields, click “Add” and you will open the page of your newly created Signal. Enter description for your Signal and save it.\\n\\n  \\n\\n5. How to subscribe to a Signal?\\nYou can subscribe to a trading signal in two ways. First - subscribe directly from the desired signal at the website:\\n\\n  \\n\\nSecond - subscribe from the client terminal. To do this, you must enter your MQL5.com login and password in the Community tab of the client terminal settings dialog box. For a paid subscription you will also need the required sum of money on your account in MQL5.community payment system.\\n\\n  \\n\\n6. I created a signal, but it is not available for subscription on the website. Why?\\nGo to the \"My signals\" section to view the status of your signal. There may be problems with its connection.\\n\\n  \\n\\nWhen you open your signal page you will see the error message. You can correct account number, password and the name of trading server using the \"Edit\" command.\\n\\n  \\n\\n7. How to subscribe to a signal from the MetaTrader 4 (MetaTrader 5) client terminal?\\nSelect the desired signal in the terminal and open it. Then click \"Subscribe\" and in the opened dialog box fill in all the required data: agree to the terms of use, confirm password of your MQL5.com account and then click \"OK\".\\n\\n  \\n\\nThen, after a second or two, the next dialog box will appear in which you must configure the setting of signal copying and click \"OK\".\\n\\n  \\n\\n8. Can I copy trades from MetaTrader 4 to MetaTrader 5 or vice versa?\\nNo, MetaTrader 4 and MetaTrader 5 trading platforms have differences in order accounting and execution. Therefore, you should select signal from the same trading platform as your account to be able to copy trades. Or you can open an account on the same platform (and preferably at the same broker) as a Signal you want to subscribe.\\nWe recommend you to read the MetaTrader 5 Trading System and Orders, Positions and Deals in MetaTrader 5 articles if you are new to MetaTrader 5.\\n\\n9. How paid subscriptions are charged? What will happen if a free subscription becomes paid?\\nWhen subscribing to a paid signal, the required amount of money for the entire subscription period (week or month) freezes on Subscriber\\'s account. But these money are not transferred immediately to Provider\\'s account - provider receives money automatically when subscription is expired. If Provider cancels his Signal, frozen money are returned to subscribers.\\n\\nIf Provider decides to make a free Signal paid, then all existing subscriptions remain active and free until the end of subscription period. After subscription is expired, you will be offered to pay to renew this subscription, which you can accept or reject. Thus, converting free subscription to paid one will not charge your account if you have previously subscribed to free signal.\\n\\n10. Can I cancel a paid subscription?\\nIf Subscriber cancels his subscription, frozen money will be transferred to Provider. In this case, Subscriber will receive a clear warning:\\n\\n  \\n\\n11. I want to copy trades with fixed volume of 1.0 lots. Is it possible?\\nNo, the volumes of copied trades are calculated automatically by the client terminal on the basis of specified settings and balance ratio of Subscriber\\'s and Provider\\'s accounts. You can not specify fixed volume of deals.\\n\\n12. On Provider\\'s account all trades are performed with volume of 0.1 lots. I want to copy these trades with larger volume, for example 0.3 lots. Can I raise the volume somehow?\\nAll volumes are calculated automatically. Subscriber can copy trades with volume larger than on Provider\\'s account only in one case - if Subscriber\\'s account balance reserved for signals copying is greater than Provider\\'s account balance (Subscriber_Balance * Load > Provider_Balance).\\n\\n13. The Provider has trading symbol called GOLD, and my broker has the same instrument, but it is called XAUUSD. Are trades on GOLD copied to XAUUSD in that case?\\nIf a Subscriber\\'s account has a symbol with the same name as the one on the Provider\\'s account, and trading is fully allowed for the symbol, trades will be copied for this symbol. If trading is allowed partially or disabled for the found symbol, this symbol is considered inappropriate for copying, and the system will continue to search for a suitable symbol:\\n   1. On the Subscriber\\'s account, the system searches for all symbols with the names coinciding with the Provider\\'s symbol by the first 6 characters. For example, EURUSD == EURUSDxxx == EURUSDyyy.\\n   2. Full permission to perform trading is checked for each detected symbol. If trading is allowed partially or completely forbidden, such a symbol is discarded.\\n   3. Margin calculation type is checked for each remaining symbol - if it is Forex, a symbol is considered to be suitable. Symbols of CFD, Futures or other calculation types are discarded.\\n   4. If no symbols remain after conducting all the checks or more than one symbol is found, it is considered that a symbol mapping attempt has failed and it is impossible to copy Provider\\'s trades for that symbol.\\n   5. If one suitable symbol is found, it is used for copying Provider\\'s trades.\\n   14. The algorithm provides only two exceptions for metal symbols:\\n   1. XAUUSD == GOLD\\n   2. XAGUSD == SILVER\\n   15. In these two cases, only full permission to perform trades is checked. If such permission is present, the mapping attempt is considered to be successful.\\nExample 1: A Provider has positions on EURUSD, while a Subscriber – on EURUSD! (or vice versa) with full trading permission. The terminal performs mapping automatically and copies the trades.\\nExample 2: A Provider has positions on EURUSD, while a Subscriber – both on EURUSD! and EURUSD. The copying is performed for EURUSD.\\nExample 3: A Provider has positions on GOLD, while a Subscriber – on XAUUSD with full trading permission. The terminal performs mapping automatically and copies the trades.\\nExample 4: A Provider has positions on GOLD, while a Subscriber – on XAUUSD with close-only (partial) trading permission. The mapping is considered unsuccessful and no copying is performed.\\n\\n   16. Can I set my own rules of copying trades from a Provider\\'s symbol to a Subscriber\\'s one?\\nProvider\\'s and Subscriber\\'s symbols are mapped automatically when copying trades. No custom rules can be set.\\n\\n   17. What rounding scheme is used for Provider\\'s and Subscriber\\'s percentage ratio of deals volume?\\n\\nThe following step-by-step algorithm is used for percentage rounding:\\n\\n\\n      1. If the value is less than 0.01%, it is rounded to 0.001%, i.e. it is assumed to be 0.001%. Examples: 0.007% => 0.001%, 0.000099 => 0.001%.\\n      2. If the value is greater than 0.01% and is less than 0.1%, it is rounded to hundredths. Examples: 0.063% =>0.06%, 0.045 => 0.05%. \\n      3. If the value is greater than 0.1% and is less than 1%, it is rounded to tenths. Examples: 0.11 => 0.1%, 0.25% => 0.3%.\\n      4. If the value is greater than 1% and is less than 10%, it is rounded down to the nearest whole number. Examples: 6.25% => 6%, 7.79% =>7%.\\n      5. If the value is greater than 10% and is less than 100%, it is rounded down to the nearest whole number with step of 5%. Example: 29.7% => 25%.\\n      6. If the value is greater than 100%, it is rounded down to the nearest whole number with step of 10%. Example: 129.6% => 120%.\\n      18. \\nYou can see an example of calculations in the General information on Trading Signals for MetaTrader 4 and MetaTrader 5 article.\\n\\n      19. Why there should be no open positions and pending orders on my account in order to subscribe to a signal?\\n\\nOpen positions and pending orders do not allow Subscriber\\'s account to correctly copy Provider\\'s signals.\\n\\n\\n         1. Subscription to a signal means that you completely rely on Provider\\'s trading strategy. Positions and pending orders created by you or any other signal are not part of the current Provider\\'s trading strategy.\\n         2. The volume of copied trade operations is calculated based on the value of account balance. Subscriber\\'s positions opened manually or by any other signal increase the deposit load and may also prevent signal copying due to insufficient free margin or lead to Margin Call.\\n         3. The netting position accounting system allows you to have only one position for one symbol at the same time. If Subscriber\\'s and Provider\\'s accounts have open positions for the same symbols, signal copying can lead to a reverse of the final position or to a significant change in its volume.\\n         20. \\n         21. Why manual trading leads to problems with copying of signals (accounts out of sync)? Why I cannot simultaneously subscribe to a signal and trade on one account?\\n\\nManual intervention in trading on account subscribed to a signal, prevents correct copying of Provider\\'s signals and complicates the analysis of signal copying results.\\n\\n\\n            1. Subscription to a signal means that you completely rely on Provider\\'s trading strategy. Positions and pending orders created by you or any other signal are not part of the current Provider\\'s trading strategy.\\n            2. The volume of copied trade operations is calculated based on the value of account balance. Subscriber\\'s positions opened manually or by any other signal increase the deposit load and may also prevent signal copying due to insufficient free margin or lead to Margin Call.\\n            3. The netting position accounting system allows you to have only one position for one symbol at the same time. If Subscriber\\'s and Provider\\'s accounts have open positions for the same symbols, signal copying can lead to a reverse of the final position or to a significant change in its volume.\\n            22. \\nShould the synchronization reveal any inconsistencies, i.e. positions different from those of the Provider or any pending orders set, a standard pop-up window will appear to prompt you for permission to synchronize.\\n\\n\\n Subscriber\\'s account is not ready for synchronization \\n\\n\\n            23. How to disable your own Signal? I do not want to broadcast it anymore.\\n\\nIn the \"My Signals\" section open the signal you want to delete\\n  \\n\\nand click \"Edit\".\\n  \\n\\nTurn off the \"Enabled\" option and click \"Save\".\\n\\n  \\n            24. Does the MetaTrader 4/5 terminal has to be running at Subscriber\\'s end for trades to be copied?\\nTrades are copied directly in the Subscriber\\'s terminal which must be running and connected to the relevant account.\\n\\n            25. Can I unsubscribe from the Signal in the same way I subscribed to it?\\nYou can cancel the Signal subscription in My Subscriptions on https://www.mql5.com/en/signals or directly in the terminal: see MetaTrader 5 Help → User Interface → Toolbox → Signals: Unsubscribe from Signal. If you unsubscribe from a fee-based Signal, the amount blocked in your account for payment of the subscription fee will be deducted from your account upon canceling the subscription.\\n\\n            26. How can I find out what Signal I am subscribed to in the terminal and how can I cancel the subscription?\\nFirst, when establishing a connection to the account, the terminal connects to the signal server and checks for any available subscriptions. If the account is subscribed to a Signal, a relevant message will be written to the Journal. In addition, the name of the Signal to which the account is subscribed is displayed in blue in the first line of the Signals section of the terminal settings.\\nSecond, there is an alternative simple way that allows you to instantly view all your current and expired subscriptions on the Signals page of My Subscriptions. To be able to use this option you should be logged in to your MQL5.com account.\\n\\n            27. How are transactions copied if the Provider has 4-digit quotes for a Symbol and the Subscriber has 5-digit quotes for the same Symbol or vice verse?\\nAll transactions copied to the Subscriber\\'s account are executed at current market prices considering the deviation set in the terminal settings and contract specification of the given symbol. Thus when copying deals the number of digits doesn\\'t matter.\\n\\n            28. How is the Growth in Signals Calculated?\\nThe growth shows how the balance of an account grows. It is calculated so that the influence of deposits and withdrawals is avoided.\\n\\nThe entire trade history of an account is divided into periods between balance operations (deposits and withdrawals). First, the total growth coefficient (K) is calculated by multiplying the growth coefficients computed for each period between the balance operations (BO) and then the growth in percentage terms is calculated.\\nGrowth Coefficient К = (Balance before BO1/Initial Deposit) * (Balance before BO2/Balance after BO1 * ... * Balance before BOn/Balance after BOn-1)\\n\\nGrowth in Percentage Terms = (К - 1) * 100%\\n\\n\\nOn the chart below, the balance operations are marked with big red dots and the dashed lines indicate the periods of growth calculation:\\n\\n Growth Calcualtion \\nIn this case, the total growth for the account is calculated as follows:\\nGrowth Coefficient К = К1 * K2 * K3 = (6 615/10 000 * 17 847/11 115 * 15 547/14 847) = 1.1\\n\\nGrowth in Percentage Terms = (K-1) * 100% = (1.1 - 1) * 100 = 10%\\n\\n\\nDespite the current balance is about 50% higher than the initial deposit, the real growth due to trade operations is only 10%.\\n\\n            29. How is the year-to-date growth (YTD) calculated, if a sum of monthly growths differs from this value?\\n\\nWe use a compound rate when calculating YTD. This means that the YTD rate is calculated not by a simple addition of growth for several periods of time, but by their multiplication. Every period growth is superimposed on total cumulative growth of previous periods. This can be shown by an example.\\n\\n  \\n\\nIn 2014 the signal had following monthly growth values:\\n               1. There was 14.71% growth in January. That means that a trading account has been multiplied by 1.1471 this month. This is what we call the growth ratio for the period.\\n               2. There was 20.51% growth in February, so the growth ratio in February is equal to 1.2051.\\n               30. The growth ratio for the period is calculated according to the formula: (Growth in percentage terms) / 100%  + 1.0.   The growth ratio in January = (14.71%/100%)+1.0 = 1.1471.\\n               31. You have to multiply together growth ratios of January and February of 2014 and get the general growth ratio for these months to calculate the growth for the period.\\n               32. Total growth ratio = 1.1471 * 1.2051 = 1.3823\\n               33. The total growth ratio helps us get the ratio in percentage terms as (Total growth ratio - 1) * 100% = Growth for the period\\n               34. Growth for January-February of 2013 in percentage terms  = (1.3823 - 1.0) * 100% = 38.23%\\n               35. As you can see, there was 38.23% growth in these two months. And it differs greatly from simple addition of percents for every month ( 38.23% != 14.71% + 20.15%)\\n               36. So if you want to get a year growth ratio, you need to multiply together growth ratios for each month, then subtract 1.0 from the product and multiply the result by 100%. This will be the compound year-to-date rate (YTD).\\n               37. You need to do the same with annual growth values to see the growth for all years of trading.\\n               38. How to know the signals copy ratio to my account and the size of the required account deposit in advance?\\n\\nThe signals copy ratio from the provider\\'s account to the subscriber\\'s account depends on 4 factors. The article \"Calculator of signals\" describes the calculation mechanism and provides an application to automatically calculate these parameters before subscribing to the selected signal.n\\n\\n               39. Will a trade be copied if the estimated copy volume is less than the minimum allowed volume? Will the minimum volume be opened under any conditions?\\n\\nIf the calculated copy volume is less than the minimum volume allowed on the Subscriber\\'s trading account, then the trade will be executed with the minimum volume. Suppose that the Subscriber\\'s minimum volume on a symbol is 0.1, while the calculated volume is 0.02. Then the trade will be copied with the volume of 0.1 provided that the Subscriber\\'s account has sufficient funds for the trading operation.', metadata={'source': './faq_mql5.txt'})]"
      ]
     },
     "execution_count": 1,
     "metadata": {},
     "output_type": "execute_result"
    }
   ],
   "source": [
    "from langchain.document_loaders import TextLoader\n",
    "# Load your documents\n",
    "loader = TextLoader('./faq_mql5.txt')\n",
    "documents = loader.load()\n",
    "documents"
   ]
  },
  {
   "cell_type": "code",
   "execution_count": 8,
   "metadata": {},
   "outputs": [
    {
     "ename": "ImportError",
     "evalue": "Could not import sentence_transformers python package. Please install it with `pip install sentence-transformers`.",
     "output_type": "error",
     "traceback": [
      "\u001b[0;31m---------------------------------------------------------------------------\u001b[0m",
      "\u001b[0;31mImportError\u001b[0m                               Traceback (most recent call last)",
      "File \u001b[0;32m~/anaconda3/lib/python3.11/site-packages/langchain_community/embeddings/huggingface.py:59\u001b[0m, in \u001b[0;36mHuggingFaceEmbeddings.__init__\u001b[0;34m(self, **kwargs)\u001b[0m\n\u001b[1;32m     58\u001b[0m \u001b[39mtry\u001b[39;00m:\n\u001b[0;32m---> 59\u001b[0m     \u001b[39mimport\u001b[39;00m \u001b[39msentence_transformers\u001b[39;00m\n\u001b[1;32m     61\u001b[0m \u001b[39mexcept\u001b[39;00m \u001b[39mImportError\u001b[39;00m \u001b[39mas\u001b[39;00m exc:\n",
      "File \u001b[0;32m~/anaconda3/lib/python3.11/site-packages/sentence_transformers/__init__.py:3\u001b[0m\n\u001b[1;32m      2\u001b[0m __MODEL_HUB_ORGANIZATION__ \u001b[39m=\u001b[39m \u001b[39m\"\u001b[39m\u001b[39msentence-transformers\u001b[39m\u001b[39m\"\u001b[39m\n\u001b[0;32m----> 3\u001b[0m \u001b[39mfrom\u001b[39;00m \u001b[39m.\u001b[39;00m\u001b[39mdatasets\u001b[39;00m \u001b[39mimport\u001b[39;00m SentencesDataset, ParallelSentencesDataset\n\u001b[1;32m      4\u001b[0m \u001b[39mfrom\u001b[39;00m \u001b[39m.\u001b[39;00m\u001b[39mLoggingHandler\u001b[39;00m \u001b[39mimport\u001b[39;00m LoggingHandler\n",
      "File \u001b[0;32m~/anaconda3/lib/python3.11/site-packages/sentence_transformers/datasets/__init__.py:1\u001b[0m\n\u001b[0;32m----> 1\u001b[0m \u001b[39mfrom\u001b[39;00m \u001b[39m.\u001b[39;00m\u001b[39mDenoisingAutoEncoderDataset\u001b[39;00m \u001b[39mimport\u001b[39;00m DenoisingAutoEncoderDataset\n\u001b[1;32m      2\u001b[0m \u001b[39mfrom\u001b[39;00m \u001b[39m.\u001b[39;00m\u001b[39mNoDuplicatesDataLoader\u001b[39;00m \u001b[39mimport\u001b[39;00m NoDuplicatesDataLoader\n",
      "File \u001b[0;32m~/anaconda3/lib/python3.11/site-packages/sentence_transformers/datasets/DenoisingAutoEncoderDataset.py:1\u001b[0m\n\u001b[0;32m----> 1\u001b[0m \u001b[39mfrom\u001b[39;00m \u001b[39mtorch\u001b[39;00m\u001b[39m.\u001b[39;00m\u001b[39mutils\u001b[39;00m\u001b[39m.\u001b[39;00m\u001b[39mdata\u001b[39;00m \u001b[39mimport\u001b[39;00m Dataset\n\u001b[1;32m      2\u001b[0m \u001b[39mfrom\u001b[39;00m \u001b[39mtyping\u001b[39;00m \u001b[39mimport\u001b[39;00m List\n",
      "File \u001b[0;32m~/anaconda3/lib/python3.11/site-packages/torch/__init__.py:237\u001b[0m\n\u001b[1;32m    236\u001b[0m         _load_global_deps()\n\u001b[0;32m--> 237\u001b[0m     \u001b[39mfrom\u001b[39;00m \u001b[39mtorch\u001b[39;00m\u001b[39m.\u001b[39;00m\u001b[39m_C\u001b[39;00m \u001b[39mimport\u001b[39;00m \u001b[39m*\u001b[39m  \u001b[39m# noqa: F403\u001b[39;00m\n\u001b[1;32m    239\u001b[0m \u001b[39m# Appease the type checker; ordinarily this binding is inserted by the\u001b[39;00m\n\u001b[1;32m    240\u001b[0m \u001b[39m# torch._C module initialization code in C\u001b[39;00m\n",
      "\u001b[0;31mImportError\u001b[0m: dlopen(/Users/apple/anaconda3/lib/python3.11/site-packages/torch/_C.cpython-311-darwin.so, 0x0002): Library not loaded: @loader_path/libtorch_cpu.dylib\n  Referenced from: <93B052AD-B16C-3D0F-A6FC-DFFBB7CD9584> /Users/apple/anaconda3/lib/python3.11/site-packages/torch/lib/libtorch_python.dylib\n  Reason: tried: '/Users/apple/anaconda3/lib/python3.11/site-packages/torch/lib/libtorch_cpu.dylib' (no such file), '/usr/local/lib/libtorch_cpu.dylib' (no such file), '/usr/lib/libtorch_cpu.dylib' (no such file, not in dyld cache)",
      "\nThe above exception was the direct cause of the following exception:\n",
      "\u001b[0;31mImportError\u001b[0m                               Traceback (most recent call last)",
      "\u001b[1;32m/Users/apple/Desktop/rag_chatbot/rag_chatbot.ipynb Cell 7\u001b[0m line \u001b[0;36m5\n\u001b[1;32m      <a href='vscode-notebook-cell:/Users/apple/Desktop/rag_chatbot/rag_chatbot.ipynb#X23sZmlsZQ%3D%3D?line=2'>3</a>\u001b[0m \u001b[39mfrom\u001b[39;00m \u001b[39mlangchain\u001b[39;00m\u001b[39m.\u001b[39;00m\u001b[39mvectorstores\u001b[39;00m \u001b[39mimport\u001b[39;00m Chroma\n\u001b[1;32m      <a href='vscode-notebook-cell:/Users/apple/Desktop/rag_chatbot/rag_chatbot.ipynb#X23sZmlsZQ%3D%3D?line=3'>4</a>\u001b[0m \u001b[39m# Create a VectorStore index\u001b[39;00m\n\u001b[0;32m----> <a href='vscode-notebook-cell:/Users/apple/Desktop/rag_chatbot/rag_chatbot.ipynb#X23sZmlsZQ%3D%3D?line=4'>5</a>\u001b[0m embeddings \u001b[39m=\u001b[39m HuggingFaceEmbeddings(model_name\u001b[39m=\u001b[39m\u001b[39m'\u001b[39m\u001b[39m/Users/uavalos/Documents/gtr-t5-xxl\u001b[39m\u001b[39m'\u001b[39m)\n\u001b[1;32m      <a href='vscode-notebook-cell:/Users/apple/Desktop/rag_chatbot/rag_chatbot.ipynb#X23sZmlsZQ%3D%3D?line=5'>6</a>\u001b[0m index \u001b[39m=\u001b[39m VectorstoreIndexCreator(vectorstore\u001b[39m=\u001b[39mChroma)\u001b[39m.\u001b[39mfrom_documents(documents, embeddings)\n",
      "File \u001b[0;32m~/anaconda3/lib/python3.11/site-packages/langchain_community/embeddings/huggingface.py:62\u001b[0m, in \u001b[0;36mHuggingFaceEmbeddings.__init__\u001b[0;34m(self, **kwargs)\u001b[0m\n\u001b[1;32m     59\u001b[0m     \u001b[39mimport\u001b[39;00m \u001b[39msentence_transformers\u001b[39;00m\n\u001b[1;32m     61\u001b[0m \u001b[39mexcept\u001b[39;00m \u001b[39mImportError\u001b[39;00m \u001b[39mas\u001b[39;00m exc:\n\u001b[0;32m---> 62\u001b[0m     \u001b[39mraise\u001b[39;00m \u001b[39mImportError\u001b[39;00m(\n\u001b[1;32m     63\u001b[0m         \u001b[39m\"\u001b[39m\u001b[39mCould not import sentence_transformers python package. \u001b[39m\u001b[39m\"\u001b[39m\n\u001b[1;32m     64\u001b[0m         \u001b[39m\"\u001b[39m\u001b[39mPlease install it with `pip install sentence-transformers`.\u001b[39m\u001b[39m\"\u001b[39m\n\u001b[1;32m     65\u001b[0m     ) \u001b[39mfrom\u001b[39;00m \u001b[39mexc\u001b[39;00m\n\u001b[1;32m     67\u001b[0m \u001b[39mself\u001b[39m\u001b[39m.\u001b[39mclient \u001b[39m=\u001b[39m sentence_transformers\u001b[39m.\u001b[39mSentenceTransformer(\n\u001b[1;32m     68\u001b[0m     \u001b[39mself\u001b[39m\u001b[39m.\u001b[39mmodel_name, cache_folder\u001b[39m=\u001b[39m\u001b[39mself\u001b[39m\u001b[39m.\u001b[39mcache_folder, \u001b[39m*\u001b[39m\u001b[39m*\u001b[39m\u001b[39mself\u001b[39m\u001b[39m.\u001b[39mmodel_kwargs\n\u001b[1;32m     69\u001b[0m )\n",
      "\u001b[0;31mImportError\u001b[0m: Could not import sentence_transformers python package. Please install it with `pip install sentence-transformers`."
     ]
    }
   ],
   "source": [
    "from langchain.indexes import VectorstoreIndexCreator\n",
    "from langchain.embeddings import HuggingFaceEmbeddings\n",
    "from langchain.vectorstores import Chroma\n",
    "# Create a VectorStore index\n",
    "embeddings = HuggingFaceEmbeddings(model_name=\"t5-base\")\n",
    "index = VectorstoreIndexCreator(vectorstore=Chroma).from_documents(documents, embeddings)"
   ]
  },
  {
   "cell_type": "code",
   "execution_count": 5,
   "metadata": {},
   "outputs": [
    {
     "ename": "ImportError",
     "evalue": "cannot import name 'RetrievalQA' from 'langchain.chains.retrieval_qa' (/Users/apple/anaconda3/lib/python3.11/site-packages/langchain/chains/retrieval_qa/__init__.py)",
     "output_type": "error",
     "traceback": [
      "\u001b[0;31m---------------------------------------------------------------------------\u001b[0m",
      "\u001b[0;31mImportError\u001b[0m                               Traceback (most recent call last)",
      "\u001b[1;32m/Users/apple/Desktop/rag_chatbot/rag_chatbot.ipynb Cell 8\u001b[0m line \u001b[0;36m1\n\u001b[0;32m----> <a href='vscode-notebook-cell:/Users/apple/Desktop/rag_chatbot/rag_chatbot.ipynb#X26sZmlsZQ%3D%3D?line=0'>1</a>\u001b[0m \u001b[39mfrom\u001b[39;00m \u001b[39mlangchain\u001b[39;00m\u001b[39m.\u001b[39;00m\u001b[39mchains\u001b[39;00m\u001b[39m.\u001b[39;00m\u001b[39mretrieval_qa\u001b[39;00m \u001b[39mimport\u001b[39;00m RetrievalQA\n\u001b[1;32m      <a href='vscode-notebook-cell:/Users/apple/Desktop/rag_chatbot/rag_chatbot.ipynb#X26sZmlsZQ%3D%3D?line=1'>2</a>\u001b[0m \u001b[39m# Create the Retrieval-Augmented Generation (RAG) chain\u001b[39;00m\n\u001b[1;32m      <a href='vscode-notebook-cell:/Users/apple/Desktop/rag_chatbot/rag_chatbot.ipynb#X26sZmlsZQ%3D%3D?line=2'>3</a>\u001b[0m rag \u001b[39m=\u001b[39m RetrievalQA\u001b[39m.\u001b[39mfrom_chain_type(\n\u001b[1;32m      <a href='vscode-notebook-cell:/Users/apple/Desktop/rag_chatbot/rag_chatbot.ipynb#X26sZmlsZQ%3D%3D?line=3'>4</a>\u001b[0m     llm\u001b[39m=\u001b[39mmodel,\n\u001b[1;32m      <a href='vscode-notebook-cell:/Users/apple/Desktop/rag_chatbot/rag_chatbot.ipynb#X26sZmlsZQ%3D%3D?line=4'>5</a>\u001b[0m     chain_type\u001b[39m=\u001b[39m\u001b[39m\"\u001b[39m\u001b[39mstuff\u001b[39m\u001b[39m\"\u001b[39m,\n\u001b[0;32m   (...)\u001b[0m\n\u001b[1;32m      <a href='vscode-notebook-cell:/Users/apple/Desktop/rag_chatbot/rag_chatbot.ipynb#X26sZmlsZQ%3D%3D?line=7'>8</a>\u001b[0m     output_key\u001b[39m=\u001b[39m\u001b[39m\"\u001b[39m\u001b[39mresult\u001b[39m\u001b[39m\"\u001b[39m\n\u001b[1;32m      <a href='vscode-notebook-cell:/Users/apple/Desktop/rag_chatbot/rag_chatbot.ipynb#X26sZmlsZQ%3D%3D?line=8'>9</a>\u001b[0m )\n",
      "\u001b[0;31mImportError\u001b[0m: cannot import name 'RetrievalQA' from 'langchain.chains.retrieval_qa' (/Users/apple/anaconda3/lib/python3.11/site-packages/langchain/chains/retrieval_qa/__init__.py)"
     ]
    }
   ],
   "source": [
    "from langchain.chains.retrieval_qa import RetrievalQA\n",
    "# Create the Retrieval-Augmented Generation (RAG) chain\n",
    "rag = RetrievalQA.from_chain_type(\n",
    "    llm=model,\n",
    "    chain_type=\"stuff\",\n",
    "    retriever=index.as_retriever(),\n",
    "    input_key=\"query\",\n",
    "    output_key=\"result\"\n",
    ")\n",
    "\n"
   ]
  },
  {
   "cell_type": "code",
   "execution_count": 4,
   "metadata": {},
   "outputs": [
    {
     "ename": "NameError",
     "evalue": "name 'rag' is not defined",
     "output_type": "error",
     "traceback": [
      "\u001b[0;31m---------------------------------------------------------------------------\u001b[0m",
      "\u001b[0;31mNameError\u001b[0m                                 Traceback (most recent call last)",
      "\u001b[1;32m/Users/apple/Desktop/rag_chatbot/rag_chatbot.ipynb Cell 9\u001b[0m line \u001b[0;36m3\n\u001b[1;32m      <a href='vscode-notebook-cell:/Users/apple/Desktop/rag_chatbot/rag_chatbot.ipynb#X30sZmlsZQ%3D%3D?line=0'>1</a>\u001b[0m \u001b[39m# Use the RAG chain to answer questions\u001b[39;00m\n\u001b[1;32m      <a href='vscode-notebook-cell:/Users/apple/Desktop/rag_chatbot/rag_chatbot.ipynb#X30sZmlsZQ%3D%3D?line=1'>2</a>\u001b[0m query \u001b[39m=\u001b[39m \u001b[39m\"\u001b[39m\u001b[39mWhat is the main topic of the document?\u001b[39m\u001b[39m\"\u001b[39m\n\u001b[0;32m----> <a href='vscode-notebook-cell:/Users/apple/Desktop/rag_chatbot/rag_chatbot.ipynb#X30sZmlsZQ%3D%3D?line=2'>3</a>\u001b[0m result \u001b[39m=\u001b[39m rag({\u001b[39m\"\u001b[39m\u001b[39mquery\u001b[39m\u001b[39m\"\u001b[39m: query})\n\u001b[1;32m      <a href='vscode-notebook-cell:/Users/apple/Desktop/rag_chatbot/rag_chatbot.ipynb#X30sZmlsZQ%3D%3D?line=3'>4</a>\u001b[0m \u001b[39mprint\u001b[39m(result[\u001b[39m\"\u001b[39m\u001b[39mresult\u001b[39m\u001b[39m\"\u001b[39m])\n",
      "\u001b[0;31mNameError\u001b[0m: name 'rag' is not defined"
     ]
    }
   ],
   "source": [
    "# Use the RAG chain to answer questions\n",
    "query = \"What is the main topic of the document?\"\n",
    "result = rag({\"query\": query})\n",
    "print(result[\"result\"])"
   ]
  },
  {
   "cell_type": "code",
   "execution_count": null,
   "metadata": {},
   "outputs": [],
   "source": []
  }
 ],
 "metadata": {
  "kernelspec": {
   "display_name": "base",
   "language": "python",
   "name": "python3"
  },
  "language_info": {
   "codemirror_mode": {
    "name": "ipython",
    "version": 3
   },
   "file_extension": ".py",
   "mimetype": "text/x-python",
   "name": "python",
   "nbconvert_exporter": "python",
   "pygments_lexer": "ipython3",
   "version": "3.11.4"
  }
 },
 "nbformat": 4,
 "nbformat_minor": 2
}

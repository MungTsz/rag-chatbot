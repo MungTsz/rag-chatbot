{
 "cells": [
  {
   "cell_type": "markdown",
   "metadata": {},
   "source": [
    "### get the Cohere API key from the environment variables"
   ]
  },
  {
   "cell_type": "code",
   "execution_count": 1,
   "metadata": {},
   "outputs": [
    {
     "data": {
      "text/plain": [
       "'urAN0hpVmnaPAW66RPqZQTKOSs46zd4EI93e1NNg'"
      ]
     },
     "execution_count": 1,
     "metadata": {},
     "output_type": "execute_result"
    }
   ],
   "source": [
    "import os\n",
    "from dotenv import load_dotenv\n",
    "\n",
    "# Load the environment variables from the .env file\n",
    "load_dotenv()\n",
    "\n",
    "cohere_api_key = os.getenv(\"COHERE_API_KEY\")\n",
    "\n",
    "cohere_api_key"
   ]
  },
  {
   "cell_type": "markdown",
   "metadata": {},
   "source": [
    "### scrap website data and load it to documents"
   ]
  },
  {
   "cell_type": "code",
   "execution_count": 2,
   "metadata": {},
   "outputs": [
    {
     "data": {
      "text/plain": [
       "[Document(page_content='\\nHere you will find the list of the frequently asked questions and the answers to them. General Questions\\xa0 How do I install expert advisors or indicators from the mql5.com market? Kindly read my\\xa0installation guide. How do I update expert advisors or indicators from the mql5.com market to latest versions? The procedure is identical to the installation, but instead of the \"Install\" button, you should click the \"Update\" button (it will be available if an update is available). The free download button is not working! In order to install a free product, you need to find it in the Market and click \"Download\". After that, the product will immediately appear in the \"Market\" list of the Navigator (View => Navigator). Do I have to pay for future updates? No, updates are free. What is an activation? An activation is the act of installing a product in a Metatrader platform. Each time you do, an activation is consumed.\\xa0 Does an update consume an activation? No, it does not.\\xa0 Can I get the .mql file (source code) of a product? No, we don\\'t disclose our source codes for any reason. Can I run indicators and EAs from the mql5.com market in Mac OS X? Yes, but you need to virtualize Windows on your Mac. You can use Parallels Desktop or VMWare to do so. You can also use remote access to a server (for example, using Microsoft Remote Desktop), where Windows and the Metatrdader 4 or 5 platform are installed. Emulation with Wine or Crossover won\\'t work because the mql5.com market needs Internet Explorer (IE > 8) to be installed in your operating system. Do you offer discounts? No, we don\\'t. The mql5.com market does not implement discount codes functionality. But sometimes I have promotions for my products. You can find out about them in the news feed if you add me as a friend. I want to make 30%-100% per month! Consider the possibility that your expectations are unrealistic. The best hedge funds in the world make around 30% per year, but you want to make several times that: you might succeed but chances are that not for long. It will probably lead you to use excessive use of leverage and eventually you\\'ll suffer a loss difficult to recover from.\\xa0 Why are you not answering to my questions? I\\'ll try to reply within 24-48 hours. Kindly note that if your question regards a free indicator or EA, response is provided within a week. \\xa0 Indicators Do your indicators work on renko charts? No, they don\\'t. My indicators use timeframes data and renko charts eliminate time from the chart. The indicator will load and display upon loading, but won\\'t update information as more renko bars are created. It\\'ll stay idle.\\xa0 Do your indicators implements alerts? Yes, all of them implement alerts of all kinds: visual, email, push and sound alerts.\\xa0 Can I use your indicators to trade small timeframes such has M1, M5 and M15? My indicators will load and evaluate on any timeframe. However, no indicator will really help you to trade M1, M5, M15 and other small timeframes, because transaction costs in these timeframes (the sum of spread, commission and slippage) represent already several times the ATR of the chart. So basically you are giving up from 3 to 5 average bars in transaction costs, for each trade. It\\'s not cost effective: the cost of trading represents several times the price movement you are trying to capture. The indicator does not work! Make sure to check if the platform is working correctly and there is a connection to the server to narrow down the problems description. Once you have narrowed down the problem and, if it’s still needed, reach out for support. It\\'ll greatly help if you could attach the screenshot with an error message relevant to the problem that needs to be resolved.\\xa0 The indicator loads blank and displays nothing Make sure to check if the platform is working correctly and there is a connection to the server and check for error messages before asking for support: it can be anything from an execution error to an activation error if your moved the indicator file manually across platforms. Scroll the chart to the past: maybe the indicator is working fine and whatever the indicator finds does not happen very often and the last occurrence is outside of the scope of your current chart zoom.\\xa0 I get an \"invalid license\" error! Kindly note that indicators downloaded from the market can\\'t be moved manually to other platforms: if you manually move an indicator file from one platform to another, it won\\'t load in the second platform. Instead, you have to activate it in the new platform. Read my\\xa0installation guide. \\xa0 Expert Advisors The EA does not work! Make sure that all parameters for the correct functioning of the Expert Advisor have been set. For correct work of the Expert Advisor the button \"Auto Trading\" should be active in the menu bar and also import from external experts, live trading and Long&Short positions should be allowed.     Also check if the platform is working correctly and there is a connection to the server to narrow down the problems description. Once you have narrowed down the problem and, if it’s still needed, reach out for support. It\\'ll greatly help if you could attach the screenshot with an error message relevant to the problem that needs to be resolved.\\xa0 The EA is not placing trades! Make sure that trading permissions are properly enabled and the terminal is connected to the broker server. If no errors are present in the log, it probably means that no trading opportunities have arisen since the EA was loaded to the chart: some of my EAs do not trade very often. The EA trading frequency might just be low and patience is required. The EA does not run in the tester! Most of my EAs read price data from many timeframes simultaneously and this requires price data to be in sync. Metatrader 5 handles synchronization very well but in Metatrader 4, sometimes you need to manually force the download and re-sync of price data. To do so, click on “Tools => History Center”, and download the price history of all timeframes for the symbol you want to trade. Then restart the terminal and try again.   Kindly note that if you are trying to backtest a multi-currency EA in Metatrader 4, it won\\'t backtest, because Metatrader4 does not support multi-currency backtesting. So, this might be another reason for the EA not to trade in the tester.\\xa0 I get an \"invalid license\" error! Kindly note that experts downloaded from the market can\\'t be moved manually to other platforms: if you manually move an expert file from one platform to another, it won\\'t load in the second platform. Instead, you have to activate it in the new platform. Read my\\xa0installation guide. The EA loads but displays nothing Most of my EAs just print a chart comment with text information. If you are running an indicator in the same chart that prints chart comments, it might be overriding the output of my EA. Try to remove the indicator(s) and load the EA again. If nothing is displayed, make sure the EA has trading permissions and the terminal is connected to the broker server.\\xa0 What account leverage do I need? I would say that 1:20 is enough. Kindly note that the leverage the broker offers and the one you actually allocate are different things. The broker might be offering 1:100 leverage or 1:500. Some EAs require a leverage of 1:500, therefore check the account requirement in the description of each EA. What is the magic number parameter? The magic number a numerical signature used by expert advisors to place and later recognize their own trades, even if the platform is closed or the internet connection lost and later restored. Each EA should trade with different magic numbers to avoid meddling with each other\\'s trades. Using the same magic number for two different EAs is dangerous and results unpredictable. Do I need to change the magic number from symbol to symbol? No, you don\\'t. The EA recognizes its own trades by magic number and symbol.\\xa0 Can I load the same EA many times on the same symbol but in different timeframes? Yes. But you need to change the magic number for each instance to avoid trade meddling.\\xa0 Can I load many EAs on the same symbol? You can, but I don\\'t advise it, not even with different magic numbers. Results are completely unpredictable and once the damage is done, no developer would be able to tell you what really happened. Different EAs can run into endless OrderMofify() loops or have different emergency mechanisms triggered on certain leverage levels or drawdown levels, to name a few issues.\\xa0 What is the slippage parameter? Slippage is the difference between the expected price of a trade, and the price the trade actually executes at. Slippage often occurs during periods of higher volatility. The slippage parameter instructs the broker which is the maximum slippage, in points, you are willing to accept for your trades. If the broker can\\'t fill your order inside your desired slippage, you will get a requote and the order won\\'t be filled.\\xa0 Can I customize the order comments? Yes, look for an input parameter called \"Comment\" in the EA inputs, and type your desired order comment string.\\xa0 \\xa0 Do you have any other questions? Kindly post them in the comment section below and I\\'ll reply. \\nIs there any EA to load automatically the trade ideas that Owl smart levels indicator provides ? lordhamza95 #: Is there any EA to load automatically the trade ideas that Owl smart levels indicator provides ?  This week I will release an assistant for opening deals on the Owl indicator, are you a buyer ?Hi , First of all i really want to thank you for this amazing EA . I am interested in renting it. On the other hand i was testin git on the tester but i am really confused about the settings . I have certain parameters which i want the EA to use for example Lot Size, SL, TP , Trailling and some other things.\\xa0 If you have some document for the same to make me understand the settings it would be really nice. Or if you want me to mail you i can do that as well -\\xa0 EA NAme - MILO BOT Pro (MT4)\\xa0 Your Prompt Response is highly appreciated.\\xa0 Regards\\xa0 Pratima\\xa0 (India)How do I leave a review for the owl smart levels? I\\'m not too familiar with mql5.com. The indicator is awesome and I want to leave a review and add you to friends because I want the EA helper that goes with the indicator. Can you please guide me? Thanks Pratima Sinha #: Hi , First of all i really want to thank you for this amazing EA . I am interested in renting it. On the other hand i was testin git on the tester but i am really confused about the settings . I have certain parameters which i want the EA to use for example Lot Size, SL, TP , Trailling and some other things.\\xa0 If you have some document for the same to make me understand the settings it would be really nice. Or if you want me to mail you i can do that as well -\\xa0 EA NAme - MILO BOT Pro (MT4)\\xa0 Your Prompt Response is highly appreciated.\\xa0 Regards\\xa0 Pratima\\xa0 (India)  Hello. The Metabot PRO Advisor is a full-fledged trading advisor. This means that it is already configured to work and does not require additional settings from the user. You just need to install it on the account and the settings for the currency pair are applied themselves from the internal memory of the adviser. Alan Piazza #: How do I leave a review for the owl smart levels? I\\'m not too familiar with mql5.com. The indicator is awesome and I want to leave a review and add you to friends because I want the EA helper that goes with the indicator. Can you please guide me? Thanks  You need to log in to your account through which you made purchases. Then go to the indicator page and click on the Reviews tab. There will be a write a review button.Is there a way to have the EA turn itself off automatically when there are news updates? Thanks!Hello, Im backtesting the universal breakout EA. I\\'m testing it, but I receive two different results from two different brokers.  The first results from ForexTime This broker doesn\\'t support low spread, but the ea works great on it.  The second broker support true ecn and low spread but the ea is lossing on it.  Any explanation, please? techno Body #: Hello, Im backtesting the universal breakout EA. I\\'m testing it, but I receive two different results from two different brokers.  The first results from ForexTime This broker doesn\\'t support low spread, but the ea works great on it.  The second broker support true ecn and low spread but the ea is lossing on it.  Any explanation, please?  Hello. Yes, there may be quotes for the strategy tester with a different GMT time value jmapari #: Is there a way to have the EA turn itself off automatically when there are news updates? Thanks!  Only if this feature is enabled in the Expert Advisor  Sir, EA does not display anything. Connectivity is good. What could be wrong? acedubai #: Sir, EA does not display anything. Connectivity is good. What could be wrong?  Hello. This Expert Advisor should not display anythingSergey Ermolov #: This week I will release an assistant for opening deals on the Owl indicator, are you a buyer ?I’m interested. Is it all automated now?traderntexas #: I’m interested. Is it all automated now?Is it automated?Hey Sergey, do you have Telegram so I can ask a few questions? I didn\\'t get very good results from the strategy tester. Here\\'s my Telegram ID @ali_afshany\\xa0 if you\\'d like to start the conversation. I am getting this error:  2024.05.14 14:00:57.814 Universal Breakout MT5 (EURUSD,M1) Error 4752 in paramerts: op=1.07834 price=1.07865 lot=0.49 sl=1.07869 tp=1.07778   Other EAs working fine.  Andrew Scribner #:  I am getting this error:  2024.05.14 14:00:57.814 Universal Breakout MT5 (EURUSD,M1) Error 4752 in paramerts: op=1.07834 price=1.07865 lot=0.49 sl=1.07869 tp=1.07778   Other EAs working fine.   Error 4752 - trade is disabled for the Expert Advisor. Check that the Expert Advisor is installed correctly on the chart', metadata={'source': 'https://www.mql5.com/en/blogs/post/752096'})]"
      ]
     },
     "execution_count": 2,
     "metadata": {},
     "output_type": "execute_result"
    }
   ],
   "source": [
    "import bs4\n",
    "from langchain_community.document_loaders import WebBaseLoader\n",
    "# Load, chunk and index the contents of the blog.\n",
    "loader = WebBaseLoader(\n",
    "    web_paths=(\"https://www.mql5.com/en/blogs/post/752096\", ),\n",
    "    bs_kwargs=dict(\n",
    "        parse_only=bs4.SoupStrainer(\n",
    "            class_=(\"content\")\n",
    "        )\n",
    "        # mimic the behavior of a web browser to make the request \n",
    "    ),header_template={\n",
    "      'User-Agent': 'Mozilla/5.0 (Windows NT 10.0; Win64; x64) AppleWebKit/537.36 (KHTML, like Gecko) Chrome/102.0.0.0 Safari/537.36',\n",
    "  }\n",
    ")\n",
    "docs = loader.load()\n",
    "\n",
    "docs"
   ]
  },
  {
   "cell_type": "markdown",
   "metadata": {},
   "source": [
    "### text processing and splitting "
   ]
  },
  {
   "cell_type": "code",
   "execution_count": 3,
   "metadata": {},
   "outputs": [
    {
     "data": {
      "text/plain": [
       "[Document(page_content='Here you will find the list of the frequently asked questions and the answers to them. General Questions\\xa0 How do I install expert advisors or indicators from the mql5.com market? Kindly read my\\xa0installation guide. How do I update expert advisors or indicators from the mql5.com market to latest versions? The procedure is identical to the installation, but instead of the \"Install\" button, you should click the \"Update\" button (it will be available if an update is available). The free download button is not working! In order to install a free product, you need to find it in the Market and click \"Download\". After that, the product will immediately appear in the \"Market\" list of the Navigator (View => Navigator). Do I have to pay for future updates? No, updates are free. What is an activation? An activation is the act of installing a product in a Metatrader platform. Each time you do, an activation is consumed.\\xa0 Does an update consume an activation? No, it does not.\\xa0 Can I get the .mql file', metadata={'source': 'https://www.mql5.com/en/blogs/post/752096'}),\n",
       " Document(page_content=\"activation is the act of installing a product in a Metatrader platform. Each time you do, an activation is consumed.\\xa0 Does an update consume an activation? No, it does not.\\xa0 Can I get the .mql file (source code) of a product? No, we don't disclose our source codes for any reason. Can I run indicators and EAs from the mql5.com market in Mac OS X? Yes, but you need to virtualize Windows on your Mac. You can use Parallels Desktop or VMWare to do so. You can also use remote access to a server (for example, using Microsoft Remote Desktop), where Windows and the Metatrdader 4 or 5 platform are installed. Emulation with Wine or Crossover won't work because the mql5.com market needs Internet Explorer (IE > 8) to be installed in your operating system. Do you offer discounts? No, we don't. The mql5.com market does not implement discount codes functionality. But sometimes I have promotions for my products. You can find out about them in the news feed if you add me as a friend. I want to make\", metadata={'source': 'https://www.mql5.com/en/blogs/post/752096'}),\n",
       " Document(page_content=\"market does not implement discount codes functionality. But sometimes I have promotions for my products. You can find out about them in the news feed if you add me as a friend. I want to make 30%-100% per month! Consider the possibility that your expectations are unrealistic. The best hedge funds in the world make around 30% per year, but you want to make several times that: you might succeed but chances are that not for long. It will probably lead you to use excessive use of leverage and eventually you'll suffer a loss difficult to recover from.\\xa0 Why are you not answering to my questions? I'll try to reply within 24-48 hours. Kindly note that if your question regards a free indicator or EA, response is provided within a week. \\xa0 Indicators Do your indicators work on renko charts? No, they don't. My indicators use timeframes data and renko charts eliminate time from the chart. The indicator will load and display upon loading, but won't update information as more renko bars are created.\", metadata={'source': 'https://www.mql5.com/en/blogs/post/752096'}),\n",
       " Document(page_content=\"don't. My indicators use timeframes data and renko charts eliminate time from the chart. The indicator will load and display upon loading, but won't update information as more renko bars are created. It'll stay idle.\\xa0 Do your indicators implements alerts? Yes, all of them implement alerts of all kinds: visual, email, push and sound alerts.\\xa0 Can I use your indicators to trade small timeframes such has M1, M5 and M15? My indicators will load and evaluate on any timeframe. However, no indicator will really help you to trade M1, M5, M15 and other small timeframes, because transaction costs in these timeframes (the sum of spread, commission and slippage) represent already several times the ATR of the chart. So basically you are giving up from 3 to 5 average bars in transaction costs, for each trade. It's not cost effective: the cost of trading represents several times the price movement you are trying to capture. The indicator does not work! Make sure to check if the platform is working\", metadata={'source': 'https://www.mql5.com/en/blogs/post/752096'}),\n",
       " Document(page_content=\"trade. It's not cost effective: the cost of trading represents several times the price movement you are trying to capture. The indicator does not work! Make sure to check if the platform is working correctly and there is a connection to the server to narrow down the problems description. Once you have narrowed down the problem and, if it’s still needed, reach out for support. It'll greatly help if you could attach the screenshot with an error message relevant to the problem that needs to be resolved.\\xa0 The indicator loads blank and displays nothing Make sure to check if the platform is working correctly and there is a connection to the server and check for error messages before asking for support: it can be anything from an execution error to an activation error if your moved the indicator file manually across platforms. Scroll the chart to the past: maybe the indicator is working fine and whatever the indicator finds does not happen very often and the last occurrence is outside of the\", metadata={'source': 'https://www.mql5.com/en/blogs/post/752096'}),\n",
       " Document(page_content='file manually across platforms. Scroll the chart to the past: maybe the indicator is working fine and whatever the indicator finds does not happen very often and the last occurrence is outside of the scope of your current chart zoom.\\xa0 I get an \"invalid license\" error! Kindly note that indicators downloaded from the market can\\'t be moved manually to other platforms: if you manually move an indicator file from one platform to another, it won\\'t load in the second platform. Instead, you have to activate it in the new platform. Read my\\xa0installation guide. \\xa0 Expert Advisors The EA does not work! Make sure that all parameters for the correct functioning of the Expert Advisor have been set. For correct work of the Expert Advisor the button \"Auto Trading\" should be active in the menu bar and also import from external experts, live trading and Long&Short positions should be allowed.     Also check if the platform is working correctly and there is a connection to the server to narrow down the', metadata={'source': 'https://www.mql5.com/en/blogs/post/752096'}),\n",
       " Document(page_content=\"import from external experts, live trading and Long&Short positions should be allowed.     Also check if the platform is working correctly and there is a connection to the server to narrow down the problems description. Once you have narrowed down the problem and, if it’s still needed, reach out for support. It'll greatly help if you could attach the screenshot with an error message relevant to the problem that needs to be resolved.\\xa0 The EA is not placing trades! Make sure that trading permissions are properly enabled and the terminal is connected to the broker server. If no errors are present in the log, it probably means that no trading opportunities have arisen since the EA was loaded to the chart: some of my EAs do not trade very often. The EA trading frequency might just be low and patience is required. The EA does not run in the tester! Most of my EAs read price data from many timeframes simultaneously and this requires price data to be in sync. Metatrader 5 handles\", metadata={'source': 'https://www.mql5.com/en/blogs/post/752096'}),\n",
       " Document(page_content='be low and patience is required. The EA does not run in the tester! Most of my EAs read price data from many timeframes simultaneously and this requires price data to be in sync. Metatrader 5 handles synchronization very well but in Metatrader 4, sometimes you need to manually force the download and re-sync of price data. To do so, click on “Tools => History Center”, and download the price history of all timeframes for the symbol you want to trade. Then restart the terminal and try again.   Kindly note that if you are trying to backtest a multi-currency EA in Metatrader 4, it won\\'t backtest, because Metatrader4 does not support multi-currency backtesting. So, this might be another reason for the EA not to trade in the tester.\\xa0 I get an \"invalid license\" error! Kindly note that experts downloaded from the market can\\'t be moved manually to other platforms: if you manually move an expert file from one platform to another, it won\\'t load in the second platform. Instead, you have to', metadata={'source': 'https://www.mql5.com/en/blogs/post/752096'}),\n",
       " Document(page_content=\"downloaded from the market can't be moved manually to other platforms: if you manually move an expert file from one platform to another, it won't load in the second platform. Instead, you have to activate it in the new platform. Read my\\xa0installation guide. The EA loads but displays nothing Most of my EAs just print a chart comment with text information. If you are running an indicator in the same chart that prints chart comments, it might be overriding the output of my EA. Try to remove the indicator(s) and load the EA again. If nothing is displayed, make sure the EA has trading permissions and the terminal is connected to the broker server.\\xa0 What account leverage do I need? I would say that 1:20 is enough. Kindly note that the leverage the broker offers and the one you actually allocate are different things. The broker might be offering 1:100 leverage or 1:500. Some EAs require a leverage of 1:500, therefore check the account requirement in the description of each EA. What is the\", metadata={'source': 'https://www.mql5.com/en/blogs/post/752096'}),\n",
       " Document(page_content=\"are different things. The broker might be offering 1:100 leverage or 1:500. Some EAs require a leverage of 1:500, therefore check the account requirement in the description of each EA. What is the magic number parameter? The magic number a numerical signature used by expert advisors to place and later recognize their own trades, even if the platform is closed or the internet connection lost and later restored. Each EA should trade with different magic numbers to avoid meddling with each other's trades. Using the same magic number for two different EAs is dangerous and results unpredictable. Do I need to change the magic number from symbol to symbol? No, you don't. The EA recognizes its own trades by magic number and symbol.\\xa0 Can I load the same EA many times on the same symbol but in different timeframes? Yes. But you need to change the magic number for each instance to avoid trade meddling.\\xa0 Can I load many EAs on the same symbol? You can, but I don't advise it, not even with\", metadata={'source': 'https://www.mql5.com/en/blogs/post/752096'}),\n",
       " Document(page_content=\"in different timeframes? Yes. But you need to change the magic number for each instance to avoid trade meddling.\\xa0 Can I load many EAs on the same symbol? You can, but I don't advise it, not even with different magic numbers. Results are completely unpredictable and once the damage is done, no developer would be able to tell you what really happened. Different EAs can run into endless OrderMofify() loops or have different emergency mechanisms triggered on certain leverage levels or drawdown levels, to name a few issues.\\xa0 What is the slippage parameter? Slippage is the difference between the expected price of a trade, and the price the trade actually executes at. Slippage often occurs during periods of higher volatility. The slippage parameter instructs the broker which is the maximum slippage, in points, you are willing to accept for your trades. If the broker can't fill your order inside your desired slippage, you will get a requote and the order won't be filled.\\xa0 Can I customize the\", metadata={'source': 'https://www.mql5.com/en/blogs/post/752096'}),\n",
       " Document(page_content='in points, you are willing to accept for your trades. If the broker can\\'t fill your order inside your desired slippage, you will get a requote and the order won\\'t be filled.\\xa0 Can I customize the order comments? Yes, look for an input parameter called \"Comment\" in the EA inputs, and type your desired order comment string.\\xa0 \\xa0 Do you have any other questions? Kindly post them in the comment section below and I\\'ll reply.', metadata={'source': 'https://www.mql5.com/en/blogs/post/752096'}),\n",
       " Document(page_content=\"Is there any EA to load automatically the trade ideas that Owl smart levels indicator provides ? lordhamza95 #: Is there any EA to load automatically the trade ideas that Owl smart levels indicator provides ?  This week I will release an assistant for opening deals on the Owl indicator, are you a buyer ?Hi , First of all i really want to thank you for this amazing EA . I am interested in renting it. On the other hand i was testin git on the tester but i am really confused about the settings . I have certain parameters which i want the EA to use for example Lot Size, SL, TP , Trailling and some other things.\\xa0 If you have some document for the same to make me understand the settings it would be really nice. Or if you want me to mail you i can do that as well -\\xa0 EA NAme - MILO BOT Pro (MT4)\\xa0 Your Prompt Response is highly appreciated.\\xa0 Regards\\xa0 Pratima\\xa0 (India)How do I leave a review for the owl smart levels? I'm not too familiar with mql5.com. The indicator is awesome and I want to\", metadata={'source': 'https://www.mql5.com/en/blogs/post/752096'}),\n",
       " Document(page_content=\"Your Prompt Response is highly appreciated.\\xa0 Regards\\xa0 Pratima\\xa0 (India)How do I leave a review for the owl smart levels? I'm not too familiar with mql5.com. The indicator is awesome and I want to leave a review and add you to friends because I want the EA helper that goes with the indicator. Can you please guide me? Thanks Pratima Sinha #: Hi , First of all i really want to thank you for this amazing EA . I am interested in renting it. On the other hand i was testin git on the tester but i am really confused about the settings . I have certain parameters which i want the EA to use for example Lot Size, SL, TP , Trailling and some other things.\\xa0 If you have some document for the same to make me understand the settings it would be really nice. Or if you want me to mail you i can do that as well -\\xa0 EA NAme - MILO BOT Pro (MT4)\\xa0 Your Prompt Response is highly appreciated.\\xa0 Regards\\xa0 Pratima\\xa0 (India)  Hello. The Metabot PRO Advisor is a full-fledged trading advisor. This means that it is\", metadata={'source': 'https://www.mql5.com/en/blogs/post/752096'}),\n",
       " Document(page_content=\"well -\\xa0 EA NAme - MILO BOT Pro (MT4)\\xa0 Your Prompt Response is highly appreciated.\\xa0 Regards\\xa0 Pratima\\xa0 (India)  Hello. The Metabot PRO Advisor is a full-fledged trading advisor. This means that it is already configured to work and does not require additional settings from the user. You just need to install it on the account and the settings for the currency pair are applied themselves from the internal memory of the adviser. Alan Piazza #: How do I leave a review for the owl smart levels? I'm not too familiar with mql5.com. The indicator is awesome and I want to leave a review and add you to friends because I want the EA helper that goes with the indicator. Can you please guide me? Thanks  You need to log in to your account through which you made purchases. Then go to the indicator page and click on the Reviews tab. There will be a write a review button.Is there a way to have the EA turn itself off automatically when there are news updates? Thanks!Hello, Im backtesting the universal\", metadata={'source': 'https://www.mql5.com/en/blogs/post/752096'}),\n",
       " Document(page_content=\"and click on the Reviews tab. There will be a write a review button.Is there a way to have the EA turn itself off automatically when there are news updates? Thanks!Hello, Im backtesting the universal breakout EA. I'm testing it, but I receive two different results from two different brokers.  The first results from ForexTime This broker doesn't support low spread, but the ea works great on it.  The second broker support true ecn and low spread but the ea is lossing on it.  Any explanation, please? techno Body #: Hello, Im backtesting the universal breakout EA. I'm testing it, but I receive two different results from two different brokers.  The first results from ForexTime This broker doesn't support low spread, but the ea works great on it.  The second broker support true ecn and low spread but the ea is lossing on it.  Any explanation, please?  Hello. Yes, there may be quotes for the strategy tester with a different GMT time value jmapari #: Is there a way to have the EA turn itself\", metadata={'source': 'https://www.mql5.com/en/blogs/post/752096'}),\n",
       " Document(page_content=\"but the ea is lossing on it.  Any explanation, please?  Hello. Yes, there may be quotes for the strategy tester with a different GMT time value jmapari #: Is there a way to have the EA turn itself off automatically when there are news updates? Thanks!  Only if this feature is enabled in the Expert Advisor  Sir, EA does not display anything. Connectivity is good. What could be wrong? acedubai #: Sir, EA does not display anything. Connectivity is good. What could be wrong?  Hello. This Expert Advisor should not display anythingSergey Ermolov #: This week I will release an assistant for opening deals on the Owl indicator, are you a buyer ?I’m interested. Is it all automated now?traderntexas #: I’m interested. Is it all automated now?Is it automated?Hey Sergey, do you have Telegram so I can ask a few questions? I didn't get very good results from the strategy tester. Here's my Telegram ID @ali_afshany\\xa0 if you'd like to start the conversation. I am getting this error:  2024.05.14\", metadata={'source': 'https://www.mql5.com/en/blogs/post/752096'}),\n",
       " Document(page_content=\"I can ask a few questions? I didn't get very good results from the strategy tester. Here's my Telegram ID @ali_afshany\\xa0 if you'd like to start the conversation. I am getting this error:  2024.05.14 14:00:57.814 Universal Breakout MT5 (EURUSD,M1) Error 4752 in paramerts: op=1.07834 price=1.07865 lot=0.49 sl=1.07869 tp=1.07778   Other EAs working fine.  Andrew Scribner #:  I am getting this error:  2024.05.14 14:00:57.814 Universal Breakout MT5 (EURUSD,M1) Error 4752 in paramerts: op=1.07834 price=1.07865 lot=0.49 sl=1.07869 tp=1.07778   Other EAs working fine.   Error 4752 - trade is disabled for the Expert Advisor. Check that the Expert Advisor is installed correctly on the chart\", metadata={'source': 'https://www.mql5.com/en/blogs/post/752096'})]"
      ]
     },
     "execution_count": 3,
     "metadata": {},
     "output_type": "execute_result"
    }
   ],
   "source": [
    "from langchain_text_splitters import RecursiveCharacterTextSplitter\n",
    "text_splitter = RecursiveCharacterTextSplitter(chunk_size=1000, chunk_overlap=200)\n",
    "splits = text_splitter.split_documents(docs)\n",
    "splits"
   ]
  },
  {
   "cell_type": "markdown",
   "metadata": {},
   "source": [
    "### create a Chroma vector store "
   ]
  },
  {
   "cell_type": "code",
   "execution_count": 4,
   "metadata": {},
   "outputs": [
    {
     "name": "stderr",
     "output_type": "stream",
     "text": [
      "c:\\Users\\Admin\\miniconda3\\envs\\chatbot\\Lib\\site-packages\\langchain_core\\_api\\deprecation.py:139: LangChainDeprecationWarning: The class `CohereEmbeddings` was deprecated in LangChain 0.0.30 and will be removed in 0.2.0. An updated version of the class exists in the langchain-cohere package and should be used instead. To use it run `pip install -U langchain-cohere` and import as `from langchain_cohere import CohereEmbeddings`.\n",
      "  warn_deprecated(\n"
     ]
    }
   ],
   "source": [
    "from langchain_chroma import Chroma\n",
    "from langchain_community.embeddings import CohereEmbeddings\n",
    "\n",
    "cohere_embeddings = CohereEmbeddings(model=\"embed-english-light-v3.0\", cohere_api_key=cohere_api_key)\n",
    "vectorstore = Chroma.from_documents(documents=splits, embedding=cohere_embeddings)\n"
   ]
  },
  {
   "cell_type": "markdown",
   "metadata": {},
   "source": [
    "### retrieve and generate using the relevant snippets of the website data"
   ]
  },
  {
   "cell_type": "code",
   "execution_count": 5,
   "metadata": {},
   "outputs": [],
   "source": [
    "retriever = vectorstore.as_retriever()"
   ]
  },
  {
   "cell_type": "code",
   "execution_count": 6,
   "metadata": {},
   "outputs": [
    {
     "data": {
      "text/plain": [
       "ChatPromptTemplate(input_variables=['context', 'question'], messages=[SystemMessagePromptTemplate(prompt=PromptTemplate(input_variables=[], template='You are an AI assistant tasked with answering questions based on the given context. \\nAlways strive for accuracy and clarity in your responses.')), HumanMessagePromptTemplate(prompt=PromptTemplate(input_variables=['context', 'question'], template=\"Use the following pieces of context to answer the question at the end. \\nIf you don't know the answer, just say that you don't know, don't try to make up an answer.\\n\\nContext:\\n{context}\\n\\nQuestion: {question}\\n\\nYour answer:\"))])"
      ]
     },
     "execution_count": 6,
     "metadata": {},
     "output_type": "execute_result"
    }
   ],
   "source": [
    "from langchain.prompts import ChatPromptTemplate, SystemMessagePromptTemplate, HumanMessagePromptTemplate\n",
    "\n",
    "# create prompt\n",
    "system_template = \"\"\"You are an AI assistant tasked with answering questions based on the given context. \n",
    "Always strive for accuracy and clarity in your responses.\"\"\"\n",
    "\n",
    "human_template = \"\"\"Use the following pieces of context to answer the question at the end. \n",
    "If you don't know the answer, just say that you don't know, don't try to make up an answer.\n",
    "\n",
    "Context:\n",
    "{context}\n",
    "\n",
    "Question: {question}\n",
    "\n",
    "Your answer:\"\"\"\n",
    "\n",
    "system_message_prompt = SystemMessagePromptTemplate.from_template(system_template)\n",
    "human_message_prompt = HumanMessagePromptTemplate.from_template(human_template)\n",
    "\n",
    "chat_prompt = ChatPromptTemplate.from_messages([system_message_prompt, human_message_prompt])\n",
    "chat_prompt"
   ]
  },
  {
   "cell_type": "code",
   "execution_count": 7,
   "metadata": {},
   "outputs": [
    {
     "name": "stderr",
     "output_type": "stream",
     "text": [
      "c:\\Users\\Admin\\miniconda3\\envs\\chatbot\\Lib\\site-packages\\langchain_core\\_api\\deprecation.py:139: LangChainDeprecationWarning: The class `Cohere` was deprecated in LangChain 0.1.14 and will be removed in 0.2.0. An updated version of the class exists in the langchain-cohere package and should be used instead. To use it run `pip install -U langchain-cohere` and import as `from langchain_cohere import Cohere`.\n",
      "  warn_deprecated(\n"
     ]
    }
   ],
   "source": [
    "from langchain.llms import Cohere\n",
    "llm = Cohere()"
   ]
  },
  {
   "cell_type": "code",
   "execution_count": 8,
   "metadata": {},
   "outputs": [],
   "source": [
    "def format_docs(docs):\n",
    "    return \"\\n\\n\".join(doc.page_content for doc in docs)"
   ]
  },
  {
   "cell_type": "markdown",
   "metadata": {},
   "source": [
    "### create a rag chain to retrieve data and output"
   ]
  },
  {
   "cell_type": "code",
   "execution_count": 9,
   "metadata": {},
   "outputs": [],
   "source": [
    "from langchain_core.output_parsers import StrOutputParser\n",
    "from langchain_core.runnables import RunnablePassthrough\n",
    "rag_chain = (\n",
    "    {\"context\": retriever | format_docs, \"question\": RunnablePassthrough()}\n",
    "    | chat_prompt\n",
    "    | llm\n",
    "    | StrOutputParser()\n",
    ")"
   ]
  },
  {
   "cell_type": "code",
   "execution_count": 10,
   "metadata": {},
   "outputs": [
    {
     "data": {
      "text/plain": [
       "' The answer is no. Future updates for MT5 do not have any cost attached to them and they are free to download and update with the latest versions. '"
      ]
     },
     "execution_count": 10,
     "metadata": {},
     "output_type": "execute_result"
    }
   ],
   "source": [
    "rag_chain.invoke(\"Do I have to pay for future updates for mt5?\")"
   ]
  },
  {
   "cell_type": "code",
   "execution_count": 11,
   "metadata": {},
   "outputs": [
    {
     "data": {
      "text/plain": [
       "' MQL5 is an integrated development environment (IDE) for developing trading strategies and technical indicators for MetaTrader 5 trading platform. It can also be used with MetaTrader 4. Developers can use MQL5 to compile, debug, and troubleshoot programs, and the MQL5 Community to share and receive trading strategies and technical indicators. '"
      ]
     },
     "execution_count": 11,
     "metadata": {},
     "output_type": "execute_result"
    }
   ],
   "source": [
    "rag_chain.invoke(\"what is mql5?\")"
   ]
  },
  {
   "cell_type": "code",
   "execution_count": 12,
   "metadata": {},
   "outputs": [
    {
     "data": {
      "text/plain": [
       "' Ice cream is a popular frozen dessert usually made from a mixture of milk, cream, and sweeteners with added flavorings. It is a well-known and widely consumed food product, appreciated for its rich taste, creamy texture, and cooling sensation. Ice cream is often flavored with a variety of ingredients, including chocolate, vanilla, nuts, fruits, and spices. It is typically served at a cold temperature and can be enjoyed in various forms, such as cones, cups, sundaes, shakes, and baked goods. Ice cream is celebrated and enjoyed globally, holding a special place in many cultures and serving as a popular snack and comfort food. \\n\\nHowever, ice cream is high in calories and sugar and contains saturated fat, so it should be enjoyed in moderation as part of a balanced lifestyle. \\n\\nI hope this answers your question! Let me know if you would like any suggestions on delicious flavors to try. '"
      ]
     },
     "execution_count": 12,
     "metadata": {},
     "output_type": "execute_result"
    }
   ],
   "source": [
    "rag_chain.invoke(\"what is ice cream?\")"
   ]
  },
  {
   "cell_type": "markdown",
   "metadata": {},
   "source": [
    "### contextualizing the question"
   ]
  },
  {
   "cell_type": "code",
   "execution_count": 13,
   "metadata": {},
   "outputs": [
    {
     "data": {
      "text/plain": [
       "ChatPromptTemplate(input_variables=['chat_history', 'input'], input_types={'chat_history': typing.List[typing.Union[langchain_core.messages.ai.AIMessage, langchain_core.messages.human.HumanMessage, langchain_core.messages.chat.ChatMessage, langchain_core.messages.system.SystemMessage, langchain_core.messages.function.FunctionMessage, langchain_core.messages.tool.ToolMessage]]}, messages=[SystemMessagePromptTemplate(prompt=PromptTemplate(input_variables=[], template='Given a chat history and the latest user question which might reference context in the chat history, formulate a standalone question which can be understood without the chat history. Do NOT answer the question, just reformulate it if needed and otherwise return it as is.')), MessagesPlaceholder(variable_name='chat_history'), HumanMessagePromptTemplate(prompt=PromptTemplate(input_variables=['input'], template='{input}'))])"
      ]
     },
     "execution_count": 13,
     "metadata": {},
     "output_type": "execute_result"
    }
   ],
   "source": [
    "from langchain.chains import create_history_aware_retriever\n",
    "from langchain_core.prompts import ChatPromptTemplate, MessagesPlaceholder\n",
    "\n",
    "contextualize_q_system_prompt = \"\"\"Given a chat history and the latest user question \\\n",
    "which might reference context in the chat history, formulate a standalone question \\\n",
    "which can be understood without the chat history. Do NOT answer the question, \\\n",
    "just reformulate it if needed and otherwise return it as is.\"\"\"\n",
    "contextualize_q_prompt = ChatPromptTemplate.from_messages(\n",
    "    [\n",
    "        (\"system\", contextualize_q_system_prompt),\n",
    "        MessagesPlaceholder(\"chat_history\"),\n",
    "        (\"human\", \"{input}\"),\n",
    "    ]\n",
    ")\n",
    "history_aware_retriever = create_history_aware_retriever(\n",
    "    llm, retriever, contextualize_q_prompt\n",
    ")\n",
    "contextualize_q_prompt"
   ]
  },
  {
   "cell_type": "markdown",
   "metadata": {},
   "source": [
    "### build up QA chain with chat history"
   ]
  },
  {
   "cell_type": "code",
   "execution_count": 14,
   "metadata": {},
   "outputs": [],
   "source": [
    "from langchain.chains import create_retrieval_chain\n",
    "from langchain.chains.combine_documents import create_stuff_documents_chain\n",
    "\n",
    "qa_system_prompt = \"\"\"You are an assistant for question-answering tasks. \\\n",
    "Use the following pieces of retrieved context to answer the question. \\\n",
    "If you don't know the answer, just say that you don't know. \\\n",
    "Use three sentences maximum and keep the answer concise.\\\n",
    "\n",
    "{context}\"\"\"\n",
    "qa_prompt = ChatPromptTemplate.from_messages(\n",
    "    [\n",
    "        (\"system\", qa_system_prompt),\n",
    "        MessagesPlaceholder(\"chat_history\"),\n",
    "        (\"human\", \"{input}\"),\n",
    "    ]\n",
    ")\n",
    "\n",
    "\n",
    "question_answer_chain = create_stuff_documents_chain(llm, qa_prompt)\n",
    "\n",
    "rag_chain = create_retrieval_chain(history_aware_retriever, question_answer_chain)"
   ]
  },
  {
   "cell_type": "code",
   "execution_count": 15,
   "metadata": {},
   "outputs": [
    {
     "name": "stdout",
     "output_type": "stream",
     "text": [
      " Unlike other marketplaces, mql5 does not offer discounts. However, some sellers may provide promotions or bundle deals on their products. These deals are sometimes posted on the news feed, so it's best to add sellers as friends on the platform. \n"
     ]
    }
   ],
   "source": [
    "from langchain_core.messages import HumanMessage\n",
    "\n",
    "chat_history = []\n",
    "\n",
    "question = \"what is mql5?\"\n",
    "ai_msg_1 = rag_chain.invoke({\"input\": question, \"chat_history\": chat_history})\n",
    "chat_history.extend([HumanMessage(content=question), ai_msg_1[\"answer\"]])\n",
    "\n",
    "second_question = \"does it offer discounts?\"\n",
    "ai_msg_2 = rag_chain.invoke({\"input\": second_question, \"chat_history\": chat_history})\n",
    "\n",
    "print(ai_msg_2[\"answer\"])"
   ]
  },
  {
   "cell_type": "markdown",
   "metadata": {},
   "source": [
    "### returning sources"
   ]
  },
  {
   "cell_type": "code",
   "execution_count": 16,
   "metadata": {},
   "outputs": [
    {
     "name": "stdout",
     "output_type": "stream",
     "text": [
      "page_content=\"activation is the act of installing a product in a Metatrader platform. Each time you do, an activation is consumed.\\xa0 Does an update consume an activation? No, it does not.\\xa0 Can I get the .mql file (source code) of a product? No, we don't disclose our source codes for any reason. Can I run indicators and EAs from the mql5.com market in Mac OS X? Yes, but you need to virtualize Windows on your Mac. You can use Parallels Desktop or VMWare to do so. You can also use remote access to a server (for example, using Microsoft Remote Desktop), where Windows and the Metatrdader 4 or 5 platform are installed. Emulation with Wine or Crossover won't work because the mql5.com market needs Internet Explorer (IE > 8) to be installed in your operating system. Do you offer discounts? No, we don't. The mql5.com market does not implement discount codes functionality. But sometimes I have promotions for my products. You can find out about them in the news feed if you add me as a friend. I want to make\" metadata={'source': 'https://www.mql5.com/en/blogs/post/752096'}\n",
      "\n",
      "page_content='Here you will find the list of the frequently asked questions and the answers to them. General Questions\\xa0 How do I install expert advisors or indicators from the mql5.com market? Kindly read my\\xa0installation guide. How do I update expert advisors or indicators from the mql5.com market to latest versions? The procedure is identical to the installation, but instead of the \"Install\" button, you should click the \"Update\" button (it will be available if an update is available). The free download button is not working! In order to install a free product, you need to find it in the Market and click \"Download\". After that, the product will immediately appear in the \"Market\" list of the Navigator (View => Navigator). Do I have to pay for future updates? No, updates are free. What is an activation? An activation is the act of installing a product in a Metatrader platform. Each time you do, an activation is consumed.\\xa0 Does an update consume an activation? No, it does not.\\xa0 Can I get the .mql file' metadata={'source': 'https://www.mql5.com/en/blogs/post/752096'}\n",
      "\n",
      "page_content=\"Your Prompt Response is highly appreciated.\\xa0 Regards\\xa0 Pratima\\xa0 (India)How do I leave a review for the owl smart levels? I'm not too familiar with mql5.com. The indicator is awesome and I want to leave a review and add you to friends because I want the EA helper that goes with the indicator. Can you please guide me? Thanks Pratima Sinha #: Hi , First of all i really want to thank you for this amazing EA . I am interested in renting it. On the other hand i was testin git on the tester but i am really confused about the settings . I have certain parameters which i want the EA to use for example Lot Size, SL, TP , Trailling and some other things.\\xa0 If you have some document for the same to make me understand the settings it would be really nice. Or if you want me to mail you i can do that as well -\\xa0 EA NAme - MILO BOT Pro (MT4)\\xa0 Your Prompt Response is highly appreciated.\\xa0 Regards\\xa0 Pratima\\xa0 (India)  Hello. The Metabot PRO Advisor is a full-fledged trading advisor. This means that it is\" metadata={'source': 'https://www.mql5.com/en/blogs/post/752096'}\n",
      "\n",
      "page_content=\"well -\\xa0 EA NAme - MILO BOT Pro (MT4)\\xa0 Your Prompt Response is highly appreciated.\\xa0 Regards\\xa0 Pratima\\xa0 (India)  Hello. The Metabot PRO Advisor is a full-fledged trading advisor. This means that it is already configured to work and does not require additional settings from the user. You just need to install it on the account and the settings for the currency pair are applied themselves from the internal memory of the adviser. Alan Piazza #: How do I leave a review for the owl smart levels? I'm not too familiar with mql5.com. The indicator is awesome and I want to leave a review and add you to friends because I want the EA helper that goes with the indicator. Can you please guide me? Thanks  You need to log in to your account through which you made purchases. Then go to the indicator page and click on the Reviews tab. There will be a write a review button.Is there a way to have the EA turn itself off automatically when there are news updates? Thanks!Hello, Im backtesting the universal\" metadata={'source': 'https://www.mql5.com/en/blogs/post/752096'}\n",
      "\n"
     ]
    }
   ],
   "source": [
    "for document in ai_msg_2[\"context\"]:\n",
    "    print(document)\n",
    "    print()"
   ]
  },
  {
   "cell_type": "code",
   "execution_count": null,
   "metadata": {},
   "outputs": [],
   "source": []
  },
  {
   "cell_type": "code",
   "execution_count": null,
   "metadata": {},
   "outputs": [],
   "source": []
  }
 ],
 "metadata": {
  "kernelspec": {
   "display_name": "chatbot",
   "language": "python",
   "name": "python3"
  },
  "language_info": {
   "codemirror_mode": {
    "name": "ipython",
    "version": 3
   },
   "file_extension": ".py",
   "mimetype": "text/x-python",
   "name": "python",
   "nbconvert_exporter": "python",
   "pygments_lexer": "ipython3",
   "version": "3.12.3"
  }
 },
 "nbformat": 4,
 "nbformat_minor": 2
}

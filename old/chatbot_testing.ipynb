{
 "cells": [
  {
   "cell_type": "code",
   "execution_count": 11,
   "metadata": {},
   "outputs": [
    {
     "data": {
      "text/plain": [
       "[<chatbot.Document at 0x10d4c5890>, <chatbot.Document at 0x116042e90>]"
      ]
     },
     "execution_count": 11,
     "metadata": {},
     "output_type": "execute_result"
    }
   ],
   "source": [
    "from chatbot import load_source_to_document\n",
    "file_base_path = \"./source/ff_doc/\"\n",
    "all_documents=[]\n",
    "all_txt_doc = load_source_to_document(file_base_path, \"txt\")\n",
    "all_documents.extend(all_txt_doc)\n",
    "\n",
    "all_documents"
   ]
  },
  {
   "cell_type": "code",
   "execution_count": 12,
   "metadata": {},
   "outputs": [
    {
     "name": "stderr",
     "output_type": "stream",
     "text": [
      "Created a chunk of size 404, which is longer than the specified 300\n",
      "Created a chunk of size 440, which is longer than the specified 300\n",
      "Created a chunk of size 411, which is longer than the specified 300\n",
      "Created a chunk of size 344, which is longer than the specified 300\n",
      "Created a chunk of size 621, which is longer than the specified 300\n",
      "Created a chunk of size 307, which is longer than the specified 300\n",
      "Created a chunk of size 403, which is longer than the specified 300\n",
      "Created a chunk of size 424, which is longer than the specified 300\n"
     ]
    },
    {
     "data": {
      "text/plain": [
       "[Document(page_content='Hong Kong AI Automated Trading Education Company\\nAbout Forex Forest\\nForex Forest was founded by Wayne Ng in 2017 and is primarily focused on AI trading program courses and developing AI trading tools. Since its establishment, it has held over 37 courses and trained over 3,000 students. Many of its alumni have successfully profited from the market through automated trading, achieving financial freedom.', metadata={'source': './source/ff_doc/aboutus.txt'}),\n",
       " Document(page_content='Forex Forest is committed to promoting and educating AI automated trading programs globally. With AI trading programs becoming the financial mainstream, our development team continues to update and develop our own trading programs. In recent years, we have won multiple international awards, becoming an internationally recognized algorithmic trading education company and one of the top AI trading program education companies in Hong Kong.', metadata={'source': './source/ff_doc/aboutus.txt'}),\n",
       " Document(page_content='Why Choose Forex Forest?\\nForex Forest is committed to promoting and educating \"Automated Algorithmic Trading\" and applying it to global trading markets such as Forex, Futures, Stocks, Gold, Commodities, Crude Oil, and even emerging cryptocurrencies. It provides Hong Kong people with an additional investment tool with great potential, allowing the public to invest in global markets and prepare for the future.', metadata={'source': './source/ff_doc/aboutus.txt'}),\n",
       " Document(page_content='AI automated algorithmic trading has become the mainstream of financial development and can be applied to various types of trading markets. It can conduct trading transactions for you 24/7 in an automated manner, free from time or other constraints. In an ever-changing global economic and investment market, one can easily earn passive income.', metadata={'source': './source/ff_doc/aboutus.txt'}),\n",
       " Document(page_content='A professional team\\nWith over 10 years of experience in automated trading, establishing a research team for developing and constantly updating, improving, and optimizing various types of automated trading programs.', metadata={'source': './source/ff_doc/aboutus.txt'}),\n",
       " Document(page_content='Teaching with dedication\\nSharing and instructing those interested in automated trading programs, and providing more professional knowledge on forex algorithmic trading, allowing everyone to profit in the forex trading market.', metadata={'source': './source/ff_doc/aboutus.txt'}),\n",
       " Document(page_content='Quality certification\\nThe course is certified by IAF as a high-quality program for algorithmic trading, taught by professionals with a serious and dedicated approach to automated trading.\"', metadata={'source': './source/ff_doc/aboutus.txt'}),\n",
       " Document(page_content=\"What is Algorithmic Trading?\\t\\nAlgorithmic trading, also known as automated trading, is the practice of defining and describing one's financial operations in a clear manner and executing trades in a disciplined manner, following pre-defined rules.\", metadata={'source': './source/ff_doc/qna.txt'}),\n",
       " Document(page_content='There are various forms of algorithmic trading. The New York Stock Exchange (NYSE) defines program trading as the simultaneous trading of a basket of 15 or more index component stocks with a total value exceeding $1 million. These portfolio trades are executed simultaneously. In simple terms, algorithmic trading involves simultaneously buying or selling a basket of stocks. There are also a few hybrid program trades that involve both buying and selling stocks. Buying a basket of stocks simultaneously is referred to as program buying, while selling a basket of stocks simultaneously is referred to as program selling.', metadata={'source': './source/ff_doc/qna.txt'}),\n",
       " Document(page_content='Algorithmic trading is primarily used by large institutions. They buy or sell entire stock portfolios simultaneously or nearly simultaneously, and the buying and selling programs can be used to achieve various objectives.', metadata={'source': './source/ff_doc/qna.txt'}),\n",
       " Document(page_content=\"Can beginners with no investment experience or exposure to algorithmic trading learn and understand it?\\t\\nWe start from the basics and explain the essential concepts and methods of algorithmic trading. You don't need prior market experience, and even beginners can easily grasp the concepts.\", metadata={'source': './source/ff_doc/qna.txt'}),\n",
       " Document(page_content='I have a busy work schedule and limited free time. Can I still make money with algorithmic trading?\\t\\nWith algorithmic trading, you can operate 24/7 and trade anytime, anywhere with just a smartphone.', metadata={'source': './source/ff_doc/qna.txt'}),\n",
       " Document(page_content=\"I don't have a substantial amount of capital. How much capital do I need to start algorithmic trading?\\t\\nWith algorithmic trading, you can start trading with as little as $100 or even $50. Compared to other investment products, the entry barrier is low, making it suitable for beginners with limited capital.\", metadata={'source': './source/ff_doc/qna.txt'}),\n",
       " Document(page_content='Is algorithmic trading investment highly risky?\\t\\nCompared to other investment products, algorithmic trading does not result in losses exceeding the invested capital, making the risk relatively lower.', metadata={'source': './source/ff_doc/qna.txt'}),\n",
       " Document(page_content='What do I need to start algorithmic trading?\\t\\nFirstly, you will need a computer or a smartphone. Secondly, you need to install the Metatrader 4 trading platform or the MT4 APPS on your mobile device.', metadata={'source': './source/ff_doc/qna.txt'}),\n",
       " Document(page_content='What is an EA (Expert Advisor)?\\t\\nAn Expert Advisor (EA) is used for automating the trading process, allowing traders to be free from continuous market monitoring. Many professional traders have a multitude of trading systems that enable them to operate in various markets and under different conditions. EAs are robot scripts written in the MQ4 language and can run on the Metatrader 4 trading platform.', metadata={'source': './source/ff_doc/qna.txt'}),\n",
       " Document(page_content='Does an EA trade every day?\\t\\nAn EA will take necessary action if there are favorable trading conditions (buying or selling). If there are no favorable conditions, the robot will wait for the most suitable moment to open orders.', metadata={'source': './source/ff_doc/qna.txt'}),\n",
       " Document(page_content='Why not start trading directly with a real account?\\t\\nYou should first test your abilities on a demo account and prove your skills before trading with real money. There is no harm in having multiple opportunities to make profits, but it is wise to be cautious about losses. Never trade on a real account without testing first on a demo account. It is recommended for everyone to test their strategies on a demo account first.', metadata={'source': './source/ff_doc/qna.txt'}),\n",
       " Document(page_content=\"What happens if I lose internet connection in a short period of time?\\t\\nIf you have set profit and stop-loss levels before placing the order, losing internet connection for a short period of time will not affect the system's settings. If you are using a VPS (Virtual Private Server), as long as the internet reconnects within a short period of time, it will not impact the system.\", metadata={'source': './source/ff_doc/qna.txt'})]"
      ]
     },
     "execution_count": 12,
     "metadata": {},
     "output_type": "execute_result"
    }
   ],
   "source": [
    "from chatbot import split_document\n",
    "from constants import COHERE_API_KEY\n",
    "\n",
    "doc_splits = split_document(300, 50, all_documents, COHERE_API_KEY)\n",
    "\n",
    "doc_splits"
   ]
  },
  {
   "cell_type": "code",
   "execution_count": 13,
   "metadata": {},
   "outputs": [],
   "source": [
    "from chatbot import vector_store\n",
    "vector_storage = vector_store(COHERE_API_KEY, doc_splits)"
   ]
  },
  {
   "cell_type": "code",
   "execution_count": 14,
   "metadata": {},
   "outputs": [],
   "source": [
    "from chatbot import create_prompt\n",
    "prompt_template = \"\"\"\n",
    "you are a customer service of forex forest company here to help the client. \n",
    "\n",
    "Given the following context:\n",
    "\n",
    "{context}\n",
    "\n",
    "Question: {question}\n",
    "\"\"\"\n",
    "\n",
    "prompt = create_prompt(prompt_template)"
   ]
  },
  {
   "cell_type": "code",
   "execution_count": 15,
   "metadata": {},
   "outputs": [],
   "source": [
    "from chatbot import create_data_retriever\n",
    "retrievalQA = create_data_retriever(prompt, vector_storage)"
   ]
  },
  {
   "cell_type": "code",
   "execution_count": 17,
   "metadata": {},
   "outputs": [
    {
     "data": {
      "text/plain": [
       "{'query': 'Can beginners with no investment experience or exposure to algorithmic trading learn and understand it?',\n",
       " 'result': \" Yes, beginners can easily grasp the essential concepts and methods of algorithmic trading as the material is taught from the basics. You don't need any prior experience in trading or markets to get started in this venture, so you should not let your lack of experience hinder your interest in this domain. \\n\\nHowever, one must approach the learning process with an observant mind, taking time to notice the nuances and complexities within the markets, one is dealing with, and making informed decisions based on such interpretations. \"}"
      ]
     },
     "execution_count": 17,
     "metadata": {},
     "output_type": "execute_result"
    }
   ],
   "source": [
    "query = \"Can beginners with no investment experience or exposure to algorithmic trading learn and understand it?\"\n",
    "retrievalQA.invoke(query)"
   ]
  },
  {
   "cell_type": "code",
   "execution_count": 19,
   "metadata": {},
   "outputs": [
    {
     "data": {
      "text/plain": [
       "{'query': 'does your company offer algo trade course to me?',\n",
       " 'result': ' Yes, we do! Forex Forest company has a range of educational resources, including courses and tutorials on algorithmic trading. We believe that providing our customers with educational tools increases their market competitiveness and allows them to maximize profits. \\n\\nYou can access our algo trade course by visiting the education category on our website. There, you will find comprehensive learning materials that cover various topics, including strategy building, backtesting, algorithm implementation, and market analysis. Additionally, our platform includes a variety of trading tools that enable customers to test their algorithmic trading strategies in real-time market conditions without risking significant capital. \\n\\nWe understand that every trader is at a different stage in their learning journey. So whether you are a beginner or an advanced trader, our algo trade course is tailored to your needs. We strive to ensure that our educational resources are intuitive and interactive, so traders can learn at their own pace and gain a more comprehensive understanding of algorithmic trading. \\n\\nIf you encounter any issues or have further questions about the algorithm trade course, our customer service team is ready to assist you. \\n\\nI hope that you will make use of our educational resources and reach your trading potential! '}"
      ]
     },
     "execution_count": 19,
     "metadata": {},
     "output_type": "execute_result"
    }
   ],
   "source": [
    "following_query = \"does your company offer algo trade course to me?\"\n",
    "retrievalQA.invoke(following_query)"
   ]
  },
  {
   "cell_type": "code",
   "execution_count": null,
   "metadata": {},
   "outputs": [],
   "source": []
  }
 ],
 "metadata": {
  "kernelspec": {
   "display_name": "chatbot",
   "language": "python",
   "name": "python3"
  },
  "language_info": {
   "codemirror_mode": {
    "name": "ipython",
    "version": 3
   },
   "file_extension": ".py",
   "mimetype": "text/x-python",
   "name": "python",
   "nbconvert_exporter": "python",
   "pygments_lexer": "ipython3",
   "version": "3.11.4"
  }
 },
 "nbformat": 4,
 "nbformat_minor": 2
}
